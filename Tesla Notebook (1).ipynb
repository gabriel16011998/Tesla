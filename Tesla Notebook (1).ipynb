{
 "cells": [
  {
   "cell_type": "markdown",
   "id": "ba27b407",
   "metadata": {},
   "source": [
    "# Tesla Deaths Exploratory Data Analysis"
   ]
  },
  {
   "cell_type": "code",
   "execution_count": 1,
   "id": "5c3fc0e9",
   "metadata": {},
   "outputs": [],
   "source": [
    "import numpy as np\n",
    "import seaborn as sns\n",
    "import pandas as pd\n",
    "import matplotlib.pyplot as plt"
   ]
  },
  {
   "cell_type": "markdown",
   "id": "665326cf",
   "metadata": {},
   "source": [
    "# Contando a Introdução do Paper  \n",
    "Baixei, primeiramente, a biblioteca que contabilizava o número de acidentes envolvendo óbitos com condutores da Tesla desde o ano de 2014."
   ]
  },
  {
   "cell_type": "code",
   "execution_count": 6,
   "id": "42b33571",
   "metadata": {},
   "outputs": [],
   "source": [
    "df = pd.read_csv('tesla.csv')"
   ]
  },
  {
   "cell_type": "code",
   "execution_count": 7,
   "id": "1188b188",
   "metadata": {},
   "outputs": [],
   "source": [
    "sns.set_theme(style='whitegrid',palette='mako' )"
   ]
  },
  {
   "cell_type": "markdown",
   "id": "d56a7308",
   "metadata": {},
   "source": [
    "# Métricas Selecionadas\n",
    "Podemos observar, abaixo, o número de casos contabilizados no total, além do ano e data de ocorrência. Temos, na coluna de 'Country' o país no qual ocorreu o acidente, seguido pelo Estado do óbito. Nas colunas adiante, de 'Description', há um breve resumo sobre o ocorrido. Em 'Deaths', podemos observar o número de óbitos ocorridos. Posteriormente, em 'Tesla driver', há a especificação se havia condução autônoma do veículo ou se um passageiro guiava o condutor. Em colunas como 'Occupant', descrevemos o número de passageiros. Nas colunas seguintes, temos 'Model', especificando o veículo em si. Temos, posteriormente, 'Sources', que especifica a fonte que noticiou o acidente. "
   ]
  },
  {
   "cell_type": "code",
   "execution_count": 8,
   "id": "fcbb9096",
   "metadata": {
    "scrolled": false
   },
   "outputs": [
    {
     "data": {
      "text/html": [
       "<div>\n",
       "<style scoped>\n",
       "    .dataframe tbody tr th:only-of-type {\n",
       "        vertical-align: middle;\n",
       "    }\n",
       "\n",
       "    .dataframe tbody tr th {\n",
       "        vertical-align: top;\n",
       "    }\n",
       "\n",
       "    .dataframe thead th {\n",
       "        text-align: right;\n",
       "    }\n",
       "</style>\n",
       "<table border=\"1\" class=\"dataframe\">\n",
       "  <thead>\n",
       "    <tr style=\"text-align: right;\">\n",
       "      <th></th>\n",
       "      <th>Case #</th>\n",
       "      <th>Year</th>\n",
       "      <th>Date</th>\n",
       "      <th>Country</th>\n",
       "      <th>State</th>\n",
       "      <th>Description</th>\n",
       "      <th>Deaths</th>\n",
       "      <th>Tesla driver</th>\n",
       "      <th>Tesla occupant</th>\n",
       "      <th>Other vehicle</th>\n",
       "      <th>...</th>\n",
       "      <th>TSLA+cycl / peds</th>\n",
       "      <th>Model</th>\n",
       "      <th>AutoPilot claimed</th>\n",
       "      <th>Verified Tesla Autopilot Death</th>\n",
       "      <th>Source</th>\n",
       "      <th>Note</th>\n",
       "      <th>Deceased 1</th>\n",
       "      <th>Deceased 2</th>\n",
       "      <th>Deceased 3</th>\n",
       "      <th>Deceased 4</th>\n",
       "    </tr>\n",
       "  </thead>\n",
       "  <tbody>\n",
       "    <tr>\n",
       "      <th>0</th>\n",
       "      <td>254</td>\n",
       "      <td>2022</td>\n",
       "      <td>8/16/2022</td>\n",
       "      <td>Germany</td>\n",
       "      <td>NaN</td>\n",
       "      <td>Tesla car crashes into tree, burns</td>\n",
       "      <td>2</td>\n",
       "      <td>NaN</td>\n",
       "      <td>NaN</td>\n",
       "      <td>-</td>\n",
       "      <td>...</td>\n",
       "      <td>2</td>\n",
       "      <td>NaN</td>\n",
       "      <td>-</td>\n",
       "      <td>-</td>\n",
       "      <td>https://www.tag24.de/nachrichten/unfall/tesla...</td>\n",
       "      <td>NaN</td>\n",
       "      <td>NaN</td>\n",
       "      <td>NaN</td>\n",
       "      <td>NaN</td>\n",
       "      <td>NaN</td>\n",
       "    </tr>\n",
       "    <tr>\n",
       "      <th>1</th>\n",
       "      <td>253</td>\n",
       "      <td>2022</td>\n",
       "      <td>8/15/2022</td>\n",
       "      <td>USA</td>\n",
       "      <td>CA</td>\n",
       "      <td>Tesla veers into oncoming traffic</td>\n",
       "      <td>4</td>\n",
       "      <td>1</td>\n",
       "      <td>3</td>\n",
       "      <td>-</td>\n",
       "      <td>...</td>\n",
       "      <td>4</td>\n",
       "      <td>NaN</td>\n",
       "      <td>-</td>\n",
       "      <td>-</td>\n",
       "      <td>https://www.ksbw.com/article/hollister-crash-...</td>\n",
       "      <td>NaN</td>\n",
       "      <td>NaN</td>\n",
       "      <td>NaN</td>\n",
       "      <td>NaN</td>\n",
       "      <td>NaN</td>\n",
       "    </tr>\n",
       "    <tr>\n",
       "      <th>2</th>\n",
       "      <td>252</td>\n",
       "      <td>2022</td>\n",
       "      <td>8/14/2022</td>\n",
       "      <td>Finland</td>\n",
       "      <td>NaN</td>\n",
       "      <td>Unlicensed driver hits pedestrian</td>\n",
       "      <td>1</td>\n",
       "      <td>-</td>\n",
       "      <td>-</td>\n",
       "      <td>-</td>\n",
       "      <td>...</td>\n",
       "      <td>1</td>\n",
       "      <td>NaN</td>\n",
       "      <td>-</td>\n",
       "      <td>-</td>\n",
       "      <td>https://yle.fi/uutiset/3-12576787</td>\n",
       "      <td>NaN</td>\n",
       "      <td>NaN</td>\n",
       "      <td>NaN</td>\n",
       "      <td>NaN</td>\n",
       "      <td>NaN</td>\n",
       "    </tr>\n",
       "    <tr>\n",
       "      <th>3</th>\n",
       "      <td>251</td>\n",
       "      <td>2022</td>\n",
       "      <td>8/2/2022</td>\n",
       "      <td>USA</td>\n",
       "      <td>FL</td>\n",
       "      <td>Man in wheelchair hit crossing road</td>\n",
       "      <td>1</td>\n",
       "      <td>-</td>\n",
       "      <td>-</td>\n",
       "      <td>-</td>\n",
       "      <td>...</td>\n",
       "      <td>1</td>\n",
       "      <td>3</td>\n",
       "      <td>-</td>\n",
       "      <td>-</td>\n",
       "      <td>https://www.wfla.com/news/man-in-wheelchair-f...</td>\n",
       "      <td>NaN</td>\n",
       "      <td>NaN</td>\n",
       "      <td>NaN</td>\n",
       "      <td>NaN</td>\n",
       "      <td>NaN</td>\n",
       "    </tr>\n",
       "    <tr>\n",
       "      <th>4</th>\n",
       "      <td>250</td>\n",
       "      <td>2022</td>\n",
       "      <td>7/27/2022</td>\n",
       "      <td>USA</td>\n",
       "      <td>ME</td>\n",
       "      <td>Tesla crashes at high speed</td>\n",
       "      <td>1</td>\n",
       "      <td>1</td>\n",
       "      <td>-</td>\n",
       "      <td>-</td>\n",
       "      <td>...</td>\n",
       "      <td>1</td>\n",
       "      <td>-</td>\n",
       "      <td>-</td>\n",
       "      <td>-</td>\n",
       "      <td>https://www.boothbayregister.com/article/sout...</td>\n",
       "      <td>NaN</td>\n",
       "      <td>James T. Penner</td>\n",
       "      <td>NaN</td>\n",
       "      <td>NaN</td>\n",
       "      <td>NaN</td>\n",
       "    </tr>\n",
       "  </tbody>\n",
       "</table>\n",
       "<p>5 rows × 21 columns</p>\n",
       "</div>"
      ],
      "text/plain": [
       "   Case #  Year       Date   Country   State   \\\n",
       "0     254  2022  8/16/2022   Germany      NaN   \n",
       "1     253  2022  8/15/2022       USA       CA   \n",
       "2     252  2022  8/14/2022   Finland      NaN   \n",
       "3     251  2022   8/2/2022       USA       FL   \n",
       "4     250  2022  7/27/2022       USA       ME   \n",
       "\n",
       "                            Description    Deaths   Tesla driver   \\\n",
       "0    Tesla car crashes into tree, burns          2            NaN   \n",
       "1     Tesla veers into oncoming traffic          4              1   \n",
       "2     Unlicensed driver hits pedestrian          1             -    \n",
       "3   Man in wheelchair hit crossing road          1             -    \n",
       "4           Tesla crashes at high speed          1              1   \n",
       "\n",
       "   Tesla occupant   Other vehicle   ...  TSLA+cycl / peds   Model   \\\n",
       "0              NaN              -   ...                  2     NaN   \n",
       "1                3              -   ...                  4     NaN   \n",
       "2               -               -   ...                  1     NaN   \n",
       "3               -               -   ...                  1       3   \n",
       "4               -               -   ...                  1      -    \n",
       "\n",
       "   AutoPilot claimed   Verified Tesla Autopilot Death   \\\n",
       "0                  -                                -    \n",
       "1                  -                                -    \n",
       "2                  -                                -    \n",
       "3                  -                                -    \n",
       "4                  -                                -    \n",
       "\n",
       "                                             Source   Note   \\\n",
       "0   https://www.tag24.de/nachrichten/unfall/tesla...    NaN   \n",
       "1   https://www.ksbw.com/article/hollister-crash-...    NaN   \n",
       "2                 https://yle.fi/uutiset/3-12576787     NaN   \n",
       "3   https://www.wfla.com/news/man-in-wheelchair-f...    NaN   \n",
       "4   https://www.boothbayregister.com/article/sout...    NaN   \n",
       "\n",
       "         Deceased 1   Deceased 2   Deceased 3   Deceased 4   \n",
       "0                NaN          NaN          NaN          NaN  \n",
       "1                NaN          NaN          NaN          NaN  \n",
       "2                NaN          NaN          NaN          NaN  \n",
       "3                NaN          NaN          NaN          NaN  \n",
       "4   James T. Penner           NaN          NaN          NaN  \n",
       "\n",
       "[5 rows x 21 columns]"
      ]
     },
     "execution_count": 8,
     "metadata": {},
     "output_type": "execute_result"
    }
   ],
   "source": [
    "df.head()"
   ]
  },
  {
   "cell_type": "code",
   "execution_count": null,
   "id": "5de74fdd",
   "metadata": {},
   "outputs": [],
   "source": []
  },
  {
   "cell_type": "code",
   "execution_count": 9,
   "id": "26b04689",
   "metadata": {},
   "outputs": [
    {
     "data": {
      "text/plain": [
       "Index(['Case #', 'Year', 'Date', ' Country ', ' State ', ' Description ',\n",
       "       ' Deaths ', ' Tesla driver ', ' Tesla occupant ', ' Other vehicle ',\n",
       "       ' Cyclists/ Peds ', ' TSLA+cycl / peds ', ' Model ',\n",
       "       ' AutoPilot claimed ', ' Verified Tesla Autopilot Death ', ' Source ',\n",
       "       ' Note ', ' Deceased 1 ', ' Deceased 2 ', ' Deceased 3 ',\n",
       "       ' Deceased 4 '],\n",
       "      dtype='object')"
      ]
     },
     "execution_count": 9,
     "metadata": {},
     "output_type": "execute_result"
    }
   ],
   "source": [
    "df.columns"
   ]
  },
  {
   "cell_type": "code",
   "execution_count": 10,
   "id": "66334ed3",
   "metadata": {},
   "outputs": [],
   "source": [
    "df.columns = df.columns.str.strip() "
   ]
  },
  {
   "cell_type": "code",
   "execution_count": 11,
   "id": "469d0603",
   "metadata": {},
   "outputs": [],
   "source": [
    "df_date = df.groupby(by='Year').sum().reset_index()"
   ]
  },
  {
   "cell_type": "markdown",
   "id": "a795f945",
   "metadata": {},
   "source": [
    "# Evolução de entregas e Mortes\n",
    "A seguir, no gráfico o qual estipula, no Eixo X o ano de ocorrência de mortes, e no Eixo Y, o número de mortes em cada ano, podemos observar que há uma evolução crescente de casos nos últimos cinco anos, entre 2018 e 2022, diante de uma maior popularização da Tesla. Dados das Relações com Investidores da Tesla mostram que, em 2018, 245.491 veículos foram entregues, montante 138% acima do registrado no acumulado de 2017. Podemos correlacionar o número de acidentes por uma maior evolução e popularização da montadora elétrica, baseada em Palo Alto, no Estado da Califórnia. Eis, então, os números de entrega da Tesla desde 2014.\n",
    "\n",
    "2014 - 31.655\n",
    "2015 - 50.517\n",
    "2016 - 76.243\n",
    "2017 - 103.091\n",
    "2018 - 245.491\n",
    "2019 - 367.656\n",
    "2020 - 499.535 \n",
    "2021 - 936.000\n",
    "2022 - 1.369.611\n"
   ]
  },
  {
   "cell_type": "markdown",
   "id": "0e97812c",
   "metadata": {},
   "source": [
    "## Years"
   ]
  },
  {
   "cell_type": "code",
   "execution_count": 12,
   "id": "9572350b",
   "metadata": {
    "scrolled": false
   },
   "outputs": [
    {
     "data": {
      "image/png": "[encoded data removed]",
      "text/plain": [
       "<Figure size 432x288 with 1 Axes>"
      ]
     },
     "metadata": {},
     "output_type": "display_data"
    }
   ],
   "source": [
    "sns.lineplot(data=df, x='Year', y='Deaths', estimator='sum').set(title='Tesla Deaths over the Years', );\n"
   ]
  },
  {
   "cell_type": "code",
   "execution_count": 13,
   "id": "ad9a4f70",
   "metadata": {},
   "outputs": [],
   "source": [
    "df['Date']=pd.to_datetime(df['Date'], format='%m/%d/%Y')"
   ]
  },
  {
   "cell_type": "code",
   "execution_count": 14,
   "id": "9081f8e8",
   "metadata": {},
   "outputs": [],
   "source": [
    "df['Day']=df['Date'].dt.strftime('%d')\n",
    "df['Week']= df['Date'].dt.strftime('%A')\n",
    "df['Month']=df['Date'].dt.strftime('%m')"
   ]
  },
  {
   "cell_type": "code",
   "execution_count": 15,
   "id": "a34616e3",
   "metadata": {},
   "outputs": [],
   "source": [
    "df['Month'] = df['Date'].dt.strftime('%m')"
   ]
  },
  {
   "cell_type": "code",
   "execution_count": null,
   "id": "f9b48a2e",
   "metadata": {},
   "outputs": [],
   "source": [
    "df.head()\n"
   ]
  },
  {
   "cell_type": "markdown",
   "id": "249b5cce",
   "metadata": {},
   "source": [
    "# Número de mortes em dias da semana \n",
    "Podemos observar, pelo levantamento, que sábado foi o dia da semana que mais contabilizou acidentes e óbitos envolvendo condutores do Tesla, seguidos pela Segunda-feira e, em sequência, Sexta-feira. Há também uma maior especificação sobre a data, no mês, em que ocorreram os acidentes. Posteriormente, na linha 21, podemos observar a contabilização dos meses que houve registro de mortes envolvendo condutores de Tesla. Pelo gráfico, é possível apontar que o mês de maio foi o que mais contabilizou acidentes e mortes envolvendo a montadora elétrica. \n",
    "\n",
    "\n",
    "\n"
   ]
  },
  {
   "cell_type": "code",
   "execution_count": 17,
   "id": "f4fd527b",
   "metadata": {},
   "outputs": [
    {
     "data": {
      "image/png": "[encoded data removed]",
      "text/plain": [
       "<Figure size 432x288 with 1 Axes>"
      ]
     },
     "metadata": {},
     "output_type": "display_data"
    }
   ],
   "source": [
    "sns.countplot(data=df, x='Week', palette='mako');"
   ]
  },
  {
   "cell_type": "code",
   "execution_count": 18,
   "id": "d1d7fc10",
   "metadata": {},
   "outputs": [],
   "source": [
    "df.sort_values('Day', inplace=True)"
   ]
  },
  {
   "cell_type": "code",
   "execution_count": 19,
   "id": "70027482",
   "metadata": {
    "scrolled": true
   },
   "outputs": [
    {
     "data": {
      "image/png": "[encoded data removed]",
      "text/plain": [
       "<Figure size 1008x504 with 1 Axes>"
      ]
     },
     "metadata": {},
     "output_type": "display_data"
    }
   ],
   "source": [
    "#days\n",
    "plt.figure(figsize=(14,7))\n",
    "sns.countplot(data=df, x='Day', palette='mako');"
   ]
  },
  {
   "cell_type": "code",
   "execution_count": 20,
   "id": "b1a02d01",
   "metadata": {},
   "outputs": [],
   "source": [
    "df.sort_values(by='Month', inplace=True)"
   ]
  },
  {
   "cell_type": "code",
   "execution_count": 21,
   "id": "779b4e09",
   "metadata": {
    "scrolled": true
   },
   "outputs": [
    {
     "data": {
      "image/png": "[encoded data removed]",
      "text/plain": [
       "<Figure size 432x288 with 1 Axes>"
      ]
     },
     "metadata": {},
     "output_type": "display_data"
    }
   ],
   "source": [
    "sns.countplot(data=df, x='Month', palette='mako');"
   ]
  },
  {
   "cell_type": "markdown",
   "id": "a1d8740a",
   "metadata": {
    "heading_collapsed": true
   },
   "source": [
    "## Country"
   ]
  },
  {
   "cell_type": "markdown",
   "id": "be9f7535",
   "metadata": {},
   "source": [
    "# EUA assumem liderança\n",
    "Em termos de mortes por país, os Estados Unidos são o país com o maior número de óbitos, naturalmente, pelo fato da montadora elétrica estar baseada no Estado da Califórnia. Naturalmente, por possuir plantas fabris na Alemanha e na China, a montadora elétrica de Musk também conta com razoável popularidade nos dois países, nos continente europeu e asiático, respectivamente, o que pode explicar as mortes. "
   ]
  },
  {
   "cell_type": "code",
   "execution_count": 22,
   "id": "80e08b67",
   "metadata": {
    "hidden": true,
    "scrolled": true
   },
   "outputs": [
    {
     "data": {
      "image/png": "[encoded data removed]",
      "text/plain": [
       "<Figure size 1080x576 with 1 Axes>"
      ]
     },
     "metadata": {},
     "output_type": "display_data"
    }
   ],
   "source": [
    "plt.figure(figsize=(15,8))\n",
    "sns.countplot(data=df, x='Country').set(title='Number of Deaths Per Country');\n",
    "plt.xticks(rotation=45)\n",
    "\n",
    "plt.show()"
   ]
  },
  {
   "cell_type": "code",
   "execution_count": 23,
   "id": "bcaccfaa",
   "metadata": {
    "hidden": true
   },
   "outputs": [
    {
     "data": {
      "text/plain": [
       " USA             185\n",
       " China            13\n",
       " Germany          11\n",
       " Canada            6\n",
       " Netherlands       6\n",
       " Norway            4\n",
       " Holland           3\n",
       " Taiwan            3\n",
       " UK                3\n",
       " Switzerland       3\n",
       " Australia         2\n",
       " Denmark           2\n",
       " Japan             2\n",
       " France            2\n",
       " Belgium           2\n",
       " Spain             1\n",
       " Ukraine           1\n",
       " Finland           1\n",
       " Austria           1\n",
       " South Korea       1\n",
       " Portugal          1\n",
       " Slovenia          1\n",
       "Name: Country, dtype: int64"
      ]
     },
     "execution_count": 23,
     "metadata": {},
     "output_type": "execute_result"
    }
   ],
   "source": [
    "df['Country'].value_counts()"
   ]
  },
  {
   "cell_type": "markdown",
   "id": "a7ffd2c1",
   "metadata": {
    "hidden": true
   },
   "source": [
    "# Califórnia lidera mortes\n",
    "O Estado da Califórnia, naturalmente por concentrar a base principal da Tesla, em Palo Alto. "
   ]
  },
  {
   "cell_type": "code",
   "execution_count": 24,
   "id": "f9c7fd90",
   "metadata": {
    "hidden": true
   },
   "outputs": [],
   "source": [
    "usa = df[df['Country'] == ' USA ']\n",
    "germany = df[df['Country'] == ' Germany ']\n"
   ]
  },
  {
   "cell_type": "code",
   "execution_count": 25,
   "id": "0b386d10",
   "metadata": {
    "hidden": true
   },
   "outputs": [],
   "source": [
    "usa_state = usa.groupby(by='State').sum()"
   ]
  },
  {
   "cell_type": "code",
   "execution_count": 26,
   "id": "d844be4a",
   "metadata": {
    "hidden": true
   },
   "outputs": [],
   "source": [
    "usa_state.reset_index(inplace=True)"
   ]
  },
  {
   "cell_type": "code",
   "execution_count": 27,
   "id": "c8ed155c",
   "metadata": {
    "hidden": true
   },
   "outputs": [
    {
     "data": {
      "image/png": "[encoded data removed]",
      "text/plain": [
       "<Figure size 1080x576 with 1 Axes>"
      ]
     },
     "metadata": {},
     "output_type": "display_data"
    }
   ],
   "source": [
    "plt.figure(figsize=(15,8))\n",
    "sns.barplot(data=usa_state, x='State', y='Deaths').set(title='Deaths per State in the USA')\n",
    "\n",
    "plt.show()"
   ]
  },
  {
   "cell_type": "code",
   "execution_count": 28,
   "id": "3b5d6d7d",
   "metadata": {
    "hidden": true
   },
   "outputs": [],
   "source": [
    "# of these deaths how many are tesla drivers,     tesla occupants\n"
   ]
  },
  {
   "cell_type": "markdown",
   "id": "388339fb",
   "metadata": {},
   "source": [
    "# Resultado de Mortes\n",
    "Falecimento de condutores ou passageiros, em decorrência dos acidentes envolvendo Tesla. \n"
   ]
  },
  {
   "cell_type": "code",
   "execution_count": 29,
   "id": "a72e21e2",
   "metadata": {
    "scrolled": true
   },
   "outputs": [
    {
     "data": {
      "text/plain": [
       " -     151\n",
       "1       99\n",
       "Name: Tesla driver, dtype: int64"
      ]
     },
     "execution_count": 29,
     "metadata": {},
     "output_type": "execute_result"
    }
   ],
   "source": [
    "df['Tesla driver'].value_counts()"
   ]
  },
  {
   "cell_type": "code",
   "execution_count": 30,
   "id": "9fb7a1b3",
   "metadata": {
    "scrolled": false
   },
   "outputs": [
    {
     "data": {
      "image/png": "[encoded data removed]",
      "text/plain": [
       "<Figure size 720x216 with 2 Axes>"
      ]
     },
     "metadata": {},
     "output_type": "display_data"
    }
   ],
   "source": [
    "f, axes = plt.subplots(1, 2, figsize=(10,3))\n",
    "sns.countplot(data=df, x='Tesla driver' , ax=axes[0]);\n",
    "sns.countplot(data=df, x=\"Tesla occupant\", ax=axes[1]);\n"
   ]
  },
  {
   "cell_type": "code",
   "execution_count": 31,
   "id": "bbbed9db",
   "metadata": {
    "scrolled": true
   },
   "outputs": [],
   "source": [
    "# df.replace(' - ', 0, inplace=True)"
   ]
  },
  {
   "cell_type": "code",
   "execution_count": 32,
   "id": "d8f3662b",
   "metadata": {},
   "outputs": [],
   "source": [
    "#deaths groupedby country\n",
    "grouped_country = df.groupby(by=['Country']).sum().reset_index()"
   ]
  },
  {
   "cell_type": "code",
   "execution_count": null,
   "id": "ef7339be",
   "metadata": {},
   "outputs": [],
   "source": []
  },
  {
   "cell_type": "code",
   "execution_count": null,
   "id": "f967c7db",
   "metadata": {},
   "outputs": [],
   "source": []
  },
  {
   "cell_type": "markdown",
   "id": "52f20746",
   "metadata": {},
   "source": [
    "# Modelo \n",
    "Há uma especificação, abaixo, dos veículos envolvidos em acidentes com óbitos da Tesla e, por consequência, sua distribuição por país. Podemos observar uma maior ocorrência envolvendo o Model S, seguido pelo Model 3. "
   ]
  },
  {
   "cell_type": "code",
   "execution_count": 33,
   "id": "abe62289",
   "metadata": {},
   "outputs": [],
   "source": [
    "# model of the car"
   ]
  },
  {
   "cell_type": "code",
   "execution_count": 34,
   "id": "47184135",
   "metadata": {},
   "outputs": [],
   "source": [
    "model = df.groupby(by='Model').sum()"
   ]
  },
  {
   "cell_type": "code",
   "execution_count": 35,
   "id": "ca268938",
   "metadata": {},
   "outputs": [
    {
     "data": {
      "text/html": [
       "<div>\n",
       "<style scoped>\n",
       "    .dataframe tbody tr th:only-of-type {\n",
       "        vertical-align: middle;\n",
       "    }\n",
       "\n",
       "    .dataframe tbody tr th {\n",
       "        vertical-align: top;\n",
       "    }\n",
       "\n",
       "    .dataframe thead th {\n",
       "        text-align: right;\n",
       "    }\n",
       "</style>\n",
       "<table border=\"1\" class=\"dataframe\">\n",
       "  <thead>\n",
       "    <tr style=\"text-align: right;\">\n",
       "      <th></th>\n",
       "      <th>Model</th>\n",
       "      <th>Case #</th>\n",
       "      <th>Year</th>\n",
       "      <th>Deaths</th>\n",
       "      <th>Deceased 4</th>\n",
       "    </tr>\n",
       "  </thead>\n",
       "  <tbody>\n",
       "    <tr>\n",
       "      <th>0</th>\n",
       "      <td>-</td>\n",
       "      <td>20826</td>\n",
       "      <td>296937</td>\n",
       "      <td>174</td>\n",
       "      <td>0.0</td>\n",
       "    </tr>\n",
       "    <tr>\n",
       "      <th>1</th>\n",
       "      <td>S</td>\n",
       "      <td>3591</td>\n",
       "      <td>90837</td>\n",
       "      <td>54</td>\n",
       "      <td>0.0</td>\n",
       "    </tr>\n",
       "    <tr>\n",
       "      <th>2</th>\n",
       "      <td>X</td>\n",
       "      <td>1687</td>\n",
       "      <td>34328</td>\n",
       "      <td>19</td>\n",
       "      <td>0.0</td>\n",
       "    </tr>\n",
       "    <tr>\n",
       "      <th>3</th>\n",
       "      <td>Y</td>\n",
       "      <td>1263</td>\n",
       "      <td>14146</td>\n",
       "      <td>9</td>\n",
       "      <td>0.0</td>\n",
       "    </tr>\n",
       "    <tr>\n",
       "      <th>4</th>\n",
       "      <td>3</td>\n",
       "      <td>4259</td>\n",
       "      <td>70698</td>\n",
       "      <td>41</td>\n",
       "      <td>0.0</td>\n",
       "    </tr>\n",
       "  </tbody>\n",
       "</table>\n",
       "</div>"
      ],
      "text/plain": [
       "  Model  Case #    Year  Deaths  Deceased 4\n",
       "0    -    20826  296937     174         0.0\n",
       "1    S     3591   90837      54         0.0\n",
       "2    X     1687   34328      19         0.0\n",
       "3    Y     1263   14146       9         0.0\n",
       "4     3    4259   70698      41         0.0"
      ]
     },
     "execution_count": 35,
     "metadata": {},
     "output_type": "execute_result"
    }
   ],
   "source": [
    "model.reset_index(inplace=True)\n",
    "model"
   ]
  },
  {
   "cell_type": "code",
   "execution_count": 36,
   "id": "c4522c9f",
   "metadata": {},
   "outputs": [
    {
     "data": {
      "text/plain": [
       "<AxesSubplot:xlabel='Model', ylabel='Deaths'>"
      ]
     },
     "execution_count": 36,
     "metadata": {},
     "output_type": "execute_result"
    },
    {
     "data": {
      "image/png": "[encoded data removed]",
      "text/plain": [
       "<Figure size 432x288 with 1 Axes>"
      ]
     },
     "metadata": {},
     "output_type": "display_data"
    }
   ],
   "source": [
    "sns.barplot(data=model, x='Model', y='Deaths')"
   ]
  },
  {
   "cell_type": "code",
   "execution_count": 37,
   "id": "ba83feb2",
   "metadata": {},
   "outputs": [],
   "source": [
    "models_country =df.groupby(by=['Country', 'Model']).sum().reset_index()"
   ]
  },
  {
   "cell_type": "code",
   "execution_count": 38,
   "id": "95489c03",
   "metadata": {
    "scrolled": true
   },
   "outputs": [
    {
     "data": {
      "text/html": [
       "<div>\n",
       "<style scoped>\n",
       "    .dataframe tbody tr th:only-of-type {\n",
       "        vertical-align: middle;\n",
       "    }\n",
       "\n",
       "    .dataframe tbody tr th {\n",
       "        vertical-align: top;\n",
       "    }\n",
       "\n",
       "    .dataframe thead th {\n",
       "        text-align: right;\n",
       "    }\n",
       "</style>\n",
       "<table border=\"1\" class=\"dataframe\">\n",
       "  <thead>\n",
       "    <tr style=\"text-align: right;\">\n",
       "      <th></th>\n",
       "      <th>Country</th>\n",
       "      <th>Model</th>\n",
       "      <th>Case #</th>\n",
       "      <th>Year</th>\n",
       "      <th>Deaths</th>\n",
       "      <th>Deceased 4</th>\n",
       "    </tr>\n",
       "  </thead>\n",
       "  <tbody>\n",
       "    <tr>\n",
       "      <th>0</th>\n",
       "      <td>Australia</td>\n",
       "      <td>-</td>\n",
       "      <td>36</td>\n",
       "      <td>2017</td>\n",
       "      <td>1</td>\n",
       "      <td>0.0</td>\n",
       "    </tr>\n",
       "    <tr>\n",
       "      <th>1</th>\n",
       "      <td>Australia</td>\n",
       "      <td>X</td>\n",
       "      <td>222</td>\n",
       "      <td>2022</td>\n",
       "      <td>1</td>\n",
       "      <td>0.0</td>\n",
       "    </tr>\n",
       "    <tr>\n",
       "      <th>2</th>\n",
       "      <td>Austria</td>\n",
       "      <td>3</td>\n",
       "      <td>91</td>\n",
       "      <td>2019</td>\n",
       "      <td>1</td>\n",
       "      <td>0.0</td>\n",
       "    </tr>\n",
       "    <tr>\n",
       "      <th>3</th>\n",
       "      <td>Belgium</td>\n",
       "      <td>-</td>\n",
       "      <td>149</td>\n",
       "      <td>2021</td>\n",
       "      <td>1</td>\n",
       "      <td>0.0</td>\n",
       "    </tr>\n",
       "    <tr>\n",
       "      <th>4</th>\n",
       "      <td>Belgium</td>\n",
       "      <td>3</td>\n",
       "      <td>133</td>\n",
       "      <td>2020</td>\n",
       "      <td>1</td>\n",
       "      <td>0.0</td>\n",
       "    </tr>\n",
       "    <tr>\n",
       "      <th>5</th>\n",
       "      <td>Canada</td>\n",
       "      <td>-</td>\n",
       "      <td>369</td>\n",
       "      <td>6057</td>\n",
       "      <td>3</td>\n",
       "      <td>0.0</td>\n",
       "    </tr>\n",
       "    <tr>\n",
       "      <th>6</th>\n",
       "      <td>Canada</td>\n",
       "      <td>S</td>\n",
       "      <td>50</td>\n",
       "      <td>2018</td>\n",
       "      <td>1</td>\n",
       "      <td>0.0</td>\n",
       "    </tr>\n",
       "    <tr>\n",
       "      <th>7</th>\n",
       "      <td>Canada</td>\n",
       "      <td>X</td>\n",
       "      <td>61</td>\n",
       "      <td>2019</td>\n",
       "      <td>1</td>\n",
       "      <td>0.0</td>\n",
       "    </tr>\n",
       "    <tr>\n",
       "      <th>8</th>\n",
       "      <td>Canada</td>\n",
       "      <td>3</td>\n",
       "      <td>109</td>\n",
       "      <td>2020</td>\n",
       "      <td>3</td>\n",
       "      <td>0.0</td>\n",
       "    </tr>\n",
       "    <tr>\n",
       "      <th>9</th>\n",
       "      <td>China</td>\n",
       "      <td>-</td>\n",
       "      <td>1515</td>\n",
       "      <td>18188</td>\n",
       "      <td>9</td>\n",
       "      <td>0.0</td>\n",
       "    </tr>\n",
       "  </tbody>\n",
       "</table>\n",
       "</div>"
      ],
      "text/plain": [
       "       Country Model  Case #   Year  Deaths  Deceased 4\n",
       "0   Australia     -       36   2017       1         0.0\n",
       "1   Australia     X      222   2022       1         0.0\n",
       "2     Austria      3      91   2019       1         0.0\n",
       "3     Belgium     -      149   2021       1         0.0\n",
       "4     Belgium      3     133   2020       1         0.0\n",
       "5      Canada     -      369   6057       3         0.0\n",
       "6      Canada     S       50   2018       1         0.0\n",
       "7      Canada     X       61   2019       1         0.0\n",
       "8      Canada      3     109   2020       3         0.0\n",
       "9       China     -     1515  18188       9         0.0"
      ]
     },
     "execution_count": 38,
     "metadata": {},
     "output_type": "execute_result"
    }
   ],
   "source": [
    "models_country.head(10)"
   ]
  },
  {
   "cell_type": "code",
   "execution_count": 39,
   "id": "54d02bb2",
   "metadata": {},
   "outputs": [],
   "source": [
    "models_usa = models_country[models_country['Country']==' USA ']"
   ]
  },
  {
   "cell_type": "code",
   "execution_count": 40,
   "id": "51cabce5",
   "metadata": {
    "scrolled": true
   },
   "outputs": [
    {
     "data": {
      "text/html": [
       "<div>\n",
       "<style scoped>\n",
       "    .dataframe tbody tr th:only-of-type {\n",
       "        vertical-align: middle;\n",
       "    }\n",
       "\n",
       "    .dataframe tbody tr th {\n",
       "        vertical-align: top;\n",
       "    }\n",
       "\n",
       "    .dataframe thead th {\n",
       "        text-align: right;\n",
       "    }\n",
       "</style>\n",
       "<table border=\"1\" class=\"dataframe\">\n",
       "  <thead>\n",
       "    <tr style=\"text-align: right;\">\n",
       "      <th></th>\n",
       "      <th>Country</th>\n",
       "      <th>Model</th>\n",
       "      <th>Case #</th>\n",
       "      <th>Year</th>\n",
       "      <th>Deaths</th>\n",
       "      <th>Deceased 4</th>\n",
       "    </tr>\n",
       "  </thead>\n",
       "  <tbody>\n",
       "    <tr>\n",
       "      <th>38</th>\n",
       "      <td>USA</td>\n",
       "      <td>-</td>\n",
       "      <td>16309</td>\n",
       "      <td>230276</td>\n",
       "      <td>139</td>\n",
       "      <td>0.0</td>\n",
       "    </tr>\n",
       "    <tr>\n",
       "      <th>39</th>\n",
       "      <td>USA</td>\n",
       "      <td>S</td>\n",
       "      <td>2557</td>\n",
       "      <td>62575</td>\n",
       "      <td>40</td>\n",
       "      <td>0.0</td>\n",
       "    </tr>\n",
       "    <tr>\n",
       "      <th>40</th>\n",
       "      <td>USA</td>\n",
       "      <td>X</td>\n",
       "      <td>748</td>\n",
       "      <td>16152</td>\n",
       "      <td>8</td>\n",
       "      <td>0.0</td>\n",
       "    </tr>\n",
       "    <tr>\n",
       "      <th>41</th>\n",
       "      <td>USA</td>\n",
       "      <td>Y</td>\n",
       "      <td>1016</td>\n",
       "      <td>12124</td>\n",
       "      <td>7</td>\n",
       "      <td>0.0</td>\n",
       "    </tr>\n",
       "    <tr>\n",
       "      <th>42</th>\n",
       "      <td>USA</td>\n",
       "      <td>3</td>\n",
       "      <td>3089</td>\n",
       "      <td>50499</td>\n",
       "      <td>27</td>\n",
       "      <td>0.0</td>\n",
       "    </tr>\n",
       "  </tbody>\n",
       "</table>\n",
       "</div>"
      ],
      "text/plain": [
       "   Country Model  Case #    Year  Deaths  Deceased 4\n",
       "38    USA     -    16309  230276     139         0.0\n",
       "39    USA     S     2557   62575      40         0.0\n",
       "40    USA     X      748   16152       8         0.0\n",
       "41    USA     Y     1016   12124       7         0.0\n",
       "42    USA      3    3089   50499      27         0.0"
      ]
     },
     "execution_count": 40,
     "metadata": {},
     "output_type": "execute_result"
    }
   ],
   "source": [
    "models_usa"
   ]
  },
  {
   "cell_type": "code",
   "execution_count": 41,
   "id": "8a29d23c",
   "metadata": {},
   "outputs": [],
   "source": [
    "models_china = models_country[models_country['Country']==' China ']"
   ]
  },
  {
   "cell_type": "markdown",
   "id": "4fb00298",
   "metadata": {},
   "source": [
    "# Modelos de mortes por EUA, China\n",
    "Podemos observar que há uma maior ocorrência de mortes envolvendo o Model S da Tesla, nos EUA, que é um dos princupais modelos da montadora, lançado em julho de 2012. Na China, há uma maior equiparidade entre os modelos X e Y. "
   ]
  },
  {
   "cell_type": "code",
   "execution_count": 42,
   "id": "769f7706",
   "metadata": {
    "scrolled": true
   },
   "outputs": [
    {
     "data": {
      "image/png": "[encoded data removed]",
      "text/plain": [
       "<Figure size 936x216 with 2 Axes>"
      ]
     },
     "metadata": {},
     "output_type": "display_data"
    }
   ],
   "source": [
    "f, axes = plt.subplots(1, 2, figsize=(13,3))\n",
    "\n",
    "sns.barplot(data=models_usa, x='Model', y='Deaths', ax=axes[0]).set(title='Deaths per Model in USA');\n",
    "sns.barplot(data=models_china, x='Model', y='Deaths' ,ax=axes[1]).set(title='Deaths per Model in China');"
   ]
  },
  {
   "cell_type": "code",
   "execution_count": null,
   "id": "8468ad40",
   "metadata": {},
   "outputs": [],
   "source": []
  }
 ],
 "metadata": {
  "kernelspec": {
   "display_name": "Python 3 (ipykernel)",
   "language": "python",
   "name": "python3"
  },
  "language_info": {
   "codemirror_mode": {
    "name": "ipython",
    "version": 3
   },
   "file_extension": ".py",
   "mimetype": "text/x-python",
   "name": "python",
   "nbconvert_exporter": "python",
   "pygments_lexer": "ipython3",
   "version": "3.9.7"
  }
 },
 "nbformat": 4,
 "nbformat_minor": 5
}
