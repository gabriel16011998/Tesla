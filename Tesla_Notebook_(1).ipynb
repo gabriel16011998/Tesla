{
  "cells": [
    {
      "cell_type": "markdown",
      "id": "ba27b407",
      "metadata": {
        "id": "ba27b407"
      },
      "source": [
        "# Tesla Deaths Exploratory Data Analysis"
      ]
    },
    {
      "cell_type": "code",
      "execution_count": 1,
      "id": "5c3fc0e9",
      "metadata": {
        "id": "5c3fc0e9"
      },
      "outputs": [],
      "source": [
        "import numpy as np\n",
        "import seaborn as sns\n",
        "import pandas as pd\n",
        "import matplotlib.pyplot as plt"
      ]
    },
    {
      "cell_type": "markdown",
      "id": "665326cf",
      "metadata": {
        "id": "665326cf"
      },
      "source": [
        "# Contando a Introdução do Paper  \n",
        "Baixei, primeiramente, a biblioteca que contabilizava o número de acidentes envolvendo óbitos com condutores da Tesla desde o ano de 2014."
      ]
    },
    {
      "cell_type": "code",
      "execution_count": 3,
      "id": "42b33571",
      "metadata": {
        "id": "42b33571"
      },
      "outputs": [],
      "source": [
        "df = pd.read_csv('tesla.csv')"
      ]
    },
    {
      "cell_type": "code",
      "execution_count": 4,
      "id": "1188b188",
      "metadata": {
        "id": "1188b188"
      },
      "outputs": [],
      "source": [
        "sns.set_theme(style='whitegrid',palette='mako' )"
      ]
    },
    {
      "cell_type": "markdown",
      "id": "d56a7308",
      "metadata": {
        "id": "d56a7308"
      },
      "source": [
        "# Métricas Selecionadas\n",
        "Podemos observar, abaixo, o número de casos contabilizados no total, além do ano e data de ocorrência. Temos, na coluna de 'Country' o país no qual ocorreu o acidente, seguido pelo Estado do óbito. Nas colunas adiante, de 'Description', há um breve resumo sobre o ocorrido. Em 'Deaths', podemos observar o número de óbitos ocorridos. Posteriormente, em 'Tesla driver', há a especificação se havia condução autônoma do veículo ou se um passageiro guiava o condutor. Em colunas como 'Occupant', descrevemos o número de passageiros. Nas colunas seguintes, temos 'Model', especificando o veículo em si. Temos, posteriormente, 'Sources', que especifica a fonte que noticiou o acidente."
      ]
    },
    {
      "cell_type": "code",
      "execution_count": 5,
      "id": "fcbb9096",
      "metadata": {
        "scrolled": false,
        "colab": {
          "base_uri": "https://localhost:8080/",
          "height": 508
        },
        "id": "fcbb9096",
        "outputId": "41a85f13-a8da-4ed3-c60b-97a9c6a0ebe4"
      },
      "outputs": [
        {
          "output_type": "execute_result",
          "data": {
            "text/plain": [
              "   Case #  Year       Date   Country   State   \\\n",
              "0     254  2022  8/16/2022   Germany      NaN   \n",
              "1     253  2022  8/15/2022       USA       CA   \n",
              "2     252  2022  8/14/2022   Finland      NaN   \n",
              "3     251  2022   8/2/2022       USA       FL   \n",
              "4     250  2022  7/27/2022       USA       ME   \n",
              "\n",
              "                            Description    Deaths   Tesla driver   \\\n",
              "0    Tesla car crashes into tree, burns          2            NaN   \n",
              "1     Tesla veers into oncoming traffic          4              1   \n",
              "2     Unlicensed driver hits pedestrian          1             -    \n",
              "3   Man in wheelchair hit crossing road          1             -    \n",
              "4           Tesla crashes at high speed          1              1   \n",
              "\n",
              "   Tesla occupant   Other vehicle   ...  TSLA+cycl / peds   Model   \\\n",
              "0              NaN              -   ...                  2     NaN   \n",
              "1                3              -   ...                  4     NaN   \n",
              "2               -               -   ...                  1     NaN   \n",
              "3               -               -   ...                  1       3   \n",
              "4               -               -   ...                  1      -    \n",
              "\n",
              "   AutoPilot claimed   Verified Tesla Autopilot Death   \\\n",
              "0                  -                                -    \n",
              "1                  -                                -    \n",
              "2                  -                                -    \n",
              "3                  -                                -    \n",
              "4                  -                                -    \n",
              "\n",
              "                                             Source   Note   \\\n",
              "0   https://www.tag24.de/nachrichten/unfall/tesla...    NaN   \n",
              "1   https://www.ksbw.com/article/hollister-crash-...    NaN   \n",
              "2                 https://yle.fi/uutiset/3-12576787     NaN   \n",
              "3   https://www.wfla.com/news/man-in-wheelchair-f...    NaN   \n",
              "4   https://www.boothbayregister.com/article/sout...    NaN   \n",
              "\n",
              "         Deceased 1   Deceased 2   Deceased 3   Deceased 4   \n",
              "0                NaN          NaN          NaN          NaN  \n",
              "1                NaN          NaN          NaN          NaN  \n",
              "2                NaN          NaN          NaN          NaN  \n",
              "3                NaN          NaN          NaN          NaN  \n",
              "4   James T. Penner           NaN          NaN          NaN  \n",
              "\n",
              "[5 rows x 21 columns]"
            ],
            "text/html": [
              "\n",
              "  <div id=\"df-6ff83cfd-c477-4b12-afb9-77b15430ea14\">\n",
              "    <div class=\"colab-df-container\">\n",
              "      <div>\n",
              "<style scoped>\n",
              "    .dataframe tbody tr th:only-of-type {\n",
              "        vertical-align: middle;\n",
              "    }\n",
              "\n",
              "    .dataframe tbody tr th {\n",
              "        vertical-align: top;\n",
              "    }\n",
              "\n",
              "    .dataframe thead th {\n",
              "        text-align: right;\n",
              "    }\n",
              "</style>\n",
              "<table border=\"1\" class=\"dataframe\">\n",
              "  <thead>\n",
              "    <tr style=\"text-align: right;\">\n",
              "      <th></th>\n",
              "      <th>Case #</th>\n",
              "      <th>Year</th>\n",
              "      <th>Date</th>\n",
              "      <th>Country</th>\n",
              "      <th>State</th>\n",
              "      <th>Description</th>\n",
              "      <th>Deaths</th>\n",
              "      <th>Tesla driver</th>\n",
              "      <th>Tesla occupant</th>\n",
              "      <th>Other vehicle</th>\n",
              "      <th>...</th>\n",
              "      <th>TSLA+cycl / peds</th>\n",
              "      <th>Model</th>\n",
              "      <th>AutoPilot claimed</th>\n",
              "      <th>Verified Tesla Autopilot Death</th>\n",
              "      <th>Source</th>\n",
              "      <th>Note</th>\n",
              "      <th>Deceased 1</th>\n",
              "      <th>Deceased 2</th>\n",
              "      <th>Deceased 3</th>\n",
              "      <th>Deceased 4</th>\n",
              "    </tr>\n",
              "  </thead>\n",
              "  <tbody>\n",
              "    <tr>\n",
              "      <th>0</th>\n",
              "      <td>254</td>\n",
              "      <td>2022</td>\n",
              "      <td>8/16/2022</td>\n",
              "      <td>Germany</td>\n",
              "      <td>NaN</td>\n",
              "      <td>Tesla car crashes into tree, burns</td>\n",
              "      <td>2</td>\n",
              "      <td>NaN</td>\n",
              "      <td>NaN</td>\n",
              "      <td>-</td>\n",
              "      <td>...</td>\n",
              "      <td>2</td>\n",
              "      <td>NaN</td>\n",
              "      <td>-</td>\n",
              "      <td>-</td>\n",
              "      <td>https://www.tag24.de/nachrichten/unfall/tesla...</td>\n",
              "      <td>NaN</td>\n",
              "      <td>NaN</td>\n",
              "      <td>NaN</td>\n",
              "      <td>NaN</td>\n",
              "      <td>NaN</td>\n",
              "    </tr>\n",
              "    <tr>\n",
              "      <th>1</th>\n",
              "      <td>253</td>\n",
              "      <td>2022</td>\n",
              "      <td>8/15/2022</td>\n",
              "      <td>USA</td>\n",
              "      <td>CA</td>\n",
              "      <td>Tesla veers into oncoming traffic</td>\n",
              "      <td>4</td>\n",
              "      <td>1</td>\n",
              "      <td>3</td>\n",
              "      <td>-</td>\n",
              "      <td>...</td>\n",
              "      <td>4</td>\n",
              "      <td>NaN</td>\n",
              "      <td>-</td>\n",
              "      <td>-</td>\n",
              "      <td>https://www.ksbw.com/article/hollister-crash-...</td>\n",
              "      <td>NaN</td>\n",
              "      <td>NaN</td>\n",
              "      <td>NaN</td>\n",
              "      <td>NaN</td>\n",
              "      <td>NaN</td>\n",
              "    </tr>\n",
              "    <tr>\n",
              "      <th>2</th>\n",
              "      <td>252</td>\n",
              "      <td>2022</td>\n",
              "      <td>8/14/2022</td>\n",
              "      <td>Finland</td>\n",
              "      <td>NaN</td>\n",
              "      <td>Unlicensed driver hits pedestrian</td>\n",
              "      <td>1</td>\n",
              "      <td>-</td>\n",
              "      <td>-</td>\n",
              "      <td>-</td>\n",
              "      <td>...</td>\n",
              "      <td>1</td>\n",
              "      <td>NaN</td>\n",
              "      <td>-</td>\n",
              "      <td>-</td>\n",
              "      <td>https://yle.fi/uutiset/3-12576787</td>\n",
              "      <td>NaN</td>\n",
              "      <td>NaN</td>\n",
              "      <td>NaN</td>\n",
              "      <td>NaN</td>\n",
              "      <td>NaN</td>\n",
              "    </tr>\n",
              "    <tr>\n",
              "      <th>3</th>\n",
              "      <td>251</td>\n",
              "      <td>2022</td>\n",
              "      <td>8/2/2022</td>\n",
              "      <td>USA</td>\n",
              "      <td>FL</td>\n",
              "      <td>Man in wheelchair hit crossing road</td>\n",
              "      <td>1</td>\n",
              "      <td>-</td>\n",
              "      <td>-</td>\n",
              "      <td>-</td>\n",
              "      <td>...</td>\n",
              "      <td>1</td>\n",
              "      <td>3</td>\n",
              "      <td>-</td>\n",
              "      <td>-</td>\n",
              "      <td>https://www.wfla.com/news/man-in-wheelchair-f...</td>\n",
              "      <td>NaN</td>\n",
              "      <td>NaN</td>\n",
              "      <td>NaN</td>\n",
              "      <td>NaN</td>\n",
              "      <td>NaN</td>\n",
              "    </tr>\n",
              "    <tr>\n",
              "      <th>4</th>\n",
              "      <td>250</td>\n",
              "      <td>2022</td>\n",
              "      <td>7/27/2022</td>\n",
              "      <td>USA</td>\n",
              "      <td>ME</td>\n",
              "      <td>Tesla crashes at high speed</td>\n",
              "      <td>1</td>\n",
              "      <td>1</td>\n",
              "      <td>-</td>\n",
              "      <td>-</td>\n",
              "      <td>...</td>\n",
              "      <td>1</td>\n",
              "      <td>-</td>\n",
              "      <td>-</td>\n",
              "      <td>-</td>\n",
              "      <td>https://www.boothbayregister.com/article/sout...</td>\n",
              "      <td>NaN</td>\n",
              "      <td>James T. Penner</td>\n",
              "      <td>NaN</td>\n",
              "      <td>NaN</td>\n",
              "      <td>NaN</td>\n",
              "    </tr>\n",
              "  </tbody>\n",
              "</table>\n",
              "<p>5 rows × 21 columns</p>\n",
              "</div>\n",
              "      <button class=\"colab-df-convert\" onclick=\"convertToInteractive('df-6ff83cfd-c477-4b12-afb9-77b15430ea14')\"\n",
              "              title=\"Convert this dataframe to an interactive table.\"\n",
              "              style=\"display:none;\">\n",
              "        \n",
              "  <svg xmlns=\"http://www.w3.org/2000/svg\" height=\"24px\"viewBox=\"0 0 24 24\"\n",
              "       width=\"24px\">\n",
              "    <path d=\"M0 0h24v24H0V0z\" fill=\"none\"/>\n",
              "    <path d=\"M18.56 5.44l.94 2.06.94-2.06 2.06-.94-2.06-.94-.94-2.06-.94 2.06-2.06.94zm-11 1L8.5 8.5l.94-2.06 2.06-.94-2.06-.94L8.5 2.5l-.94 2.06-2.06.94zm10 10l.94 2.06.94-2.06 2.06-.94-2.06-.94-.94-2.06-.94 2.06-2.06.94z\"/><path d=\"M17.41 7.96l-1.37-1.37c-.4-.4-.92-.59-1.43-.59-.52 0-1.04.2-1.43.59L10.3 9.45l-7.72 7.72c-.78.78-.78 2.05 0 2.83L4 21.41c.39.39.9.59 1.41.59.51 0 1.02-.2 1.41-.59l7.78-7.78 2.81-2.81c.8-.78.8-2.07 0-2.86zM5.41 20L4 18.59l7.72-7.72 1.47 1.35L5.41 20z\"/>\n",
              "  </svg>\n",
              "      </button>\n",
              "      \n",
              "  <style>\n",
              "    .colab-df-container {\n",
              "      display:flex;\n",
              "      flex-wrap:wrap;\n",
              "      gap: 12px;\n",
              "    }\n",
              "\n",
              "    .colab-df-convert {\n",
              "      background-color: #E8F0FE;\n",
              "      border: none;\n",
              "      border-radius: 50%;\n",
              "      cursor: pointer;\n",
              "      display: none;\n",
              "      fill: #1967D2;\n",
              "      height: 32px;\n",
              "      padding: 0 0 0 0;\n",
              "      width: 32px;\n",
              "    }\n",
              "\n",
              "    .colab-df-convert:hover {\n",
              "      background-color: #E2EBFA;\n",
              "      box-shadow: 0px 1px 2px rgba(60, 64, 67, 0.3), 0px 1px 3px 1px rgba(60, 64, 67, 0.15);\n",
              "      fill: #174EA6;\n",
              "    }\n",
              "\n",
              "    [theme=dark] .colab-df-convert {\n",
              "      background-color: #3B4455;\n",
              "      fill: #D2E3FC;\n",
              "    }\n",
              "\n",
              "    [theme=dark] .colab-df-convert:hover {\n",
              "      background-color: #434B5C;\n",
              "      box-shadow: 0px 1px 3px 1px rgba(0, 0, 0, 0.15);\n",
              "      filter: drop-shadow(0px 1px 2px rgba(0, 0, 0, 0.3));\n",
              "      fill: #FFFFFF;\n",
              "    }\n",
              "  </style>\n",
              "\n",
              "      <script>\n",
              "        const buttonEl =\n",
              "          document.querySelector('#df-6ff83cfd-c477-4b12-afb9-77b15430ea14 button.colab-df-convert');\n",
              "        buttonEl.style.display =\n",
              "          google.colab.kernel.accessAllowed ? 'block' : 'none';\n",
              "\n",
              "        async function convertToInteractive(key) {\n",
              "          const element = document.querySelector('#df-6ff83cfd-c477-4b12-afb9-77b15430ea14');\n",
              "          const dataTable =\n",
              "            await google.colab.kernel.invokeFunction('convertToInteractive',\n",
              "                                                     [key], {});\n",
              "          if (!dataTable) return;\n",
              "\n",
              "          const docLinkHtml = 'Like what you see? Visit the ' +\n",
              "            '<a target=\"_blank\" href=https://colab.research.google.com/notebooks/data_table.ipynb>data table notebook</a>'\n",
              "            + ' to learn more about interactive tables.';\n",
              "          element.innerHTML = '';\n",
              "          dataTable['output_type'] = 'display_data';\n",
              "          await google.colab.output.renderOutput(dataTable, element);\n",
              "          const docLink = document.createElement('div');\n",
              "          docLink.innerHTML = docLinkHtml;\n",
              "          element.appendChild(docLink);\n",
              "        }\n",
              "      </script>\n",
              "    </div>\n",
              "  </div>\n",
              "  "
            ]
          },
          "metadata": {},
          "execution_count": 5
        }
      ],
      "source": [
        "df.head()"
      ]
    },
    {
      "cell_type": "code",
      "execution_count": 5,
      "id": "5de74fdd",
      "metadata": {
        "id": "5de74fdd"
      },
      "outputs": [],
      "source": []
    },
    {
      "cell_type": "code",
      "execution_count": 6,
      "id": "26b04689",
      "metadata": {
        "colab": {
          "base_uri": "https://localhost:8080/"
        },
        "id": "26b04689",
        "outputId": "cfc78b23-f928-4a6c-c6cc-29e167e2f286"
      },
      "outputs": [
        {
          "output_type": "execute_result",
          "data": {
            "text/plain": [
              "Index(['Case #', 'Year', 'Date', ' Country ', ' State ', ' Description ',\n",
              "       ' Deaths ', ' Tesla driver ', ' Tesla occupant ', ' Other vehicle ',\n",
              "       ' Cyclists/ Peds ', ' TSLA+cycl / peds ', ' Model ',\n",
              "       ' AutoPilot claimed ', ' Verified Tesla Autopilot Death ', ' Source ',\n",
              "       ' Note ', ' Deceased 1 ', ' Deceased 2 ', ' Deceased 3 ',\n",
              "       ' Deceased 4 '],\n",
              "      dtype='object')"
            ]
          },
          "metadata": {},
          "execution_count": 6
        }
      ],
      "source": [
        "df.columns"
      ]
    },
    {
      "cell_type": "code",
      "execution_count": 7,
      "id": "66334ed3",
      "metadata": {
        "id": "66334ed3"
      },
      "outputs": [],
      "source": [
        "df.columns = df.columns.str.strip()"
      ]
    },
    {
      "cell_type": "code",
      "execution_count": 8,
      "id": "469d0603",
      "metadata": {
        "colab": {
          "base_uri": "https://localhost:8080/"
        },
        "id": "469d0603",
        "outputId": "843ebbc1-3619-488a-a524-8f315422383c"
      },
      "outputs": [
        {
          "output_type": "stream",
          "name": "stderr",
          "text": [
            "<ipython-input-8-55cea291210b>:1: FutureWarning: The default value of numeric_only in DataFrameGroupBy.sum is deprecated. In a future version, numeric_only will default to False. Either specify numeric_only or select only columns which should be valid for the function.\n",
            "  df_date = df.groupby(by='Year').sum().reset_index()\n"
          ]
        }
      ],
      "source": [
        "df_date = df.groupby(by='Year').sum().reset_index()"
      ]
    },
    {
      "cell_type": "markdown",
      "id": "a795f945",
      "metadata": {
        "id": "a795f945"
      },
      "source": [
        "# Evolução de entregas e Mortes\n",
        "A seguir, no gráfico o qual estipula, no Eixo X o ano de ocorrência de mortes, e no Eixo Y, o número de mortes em cada ano, podemos observar que há uma evolução crescente de casos nos últimos cinco anos, entre 2018 e 2022, diante de uma maior popularização da Tesla. Dados das Relações com Investidores da Tesla mostram que, em 2018, 245.491 veículos foram entregues, montante 138% acima do registrado no acumulado de 2017. Podemos correlacionar o número de acidentes por uma maior evolução e popularização da montadora elétrica, baseada em Palo Alto, no Estado da Califórnia. Eis, então, os números de entrega da Tesla desde 2014.\n",
        "\n",
        "2014 - 31.655\n",
        "2015 - 50.517\n",
        "2016 - 76.243\n",
        "2017 - 103.091\n",
        "2018 - 245.491\n",
        "2019 - 367.656\n",
        "2020 - 499.535\n",
        "2021 - 936.000\n",
        "2022 - 1.369.611\n"
      ]
    },
    {
      "cell_type": "markdown",
      "id": "0e97812c",
      "metadata": {
        "id": "0e97812c"
      },
      "source": [
        "## Years"
      ]
    },
    {
      "cell_type": "code",
      "execution_count": 9,
      "id": "9572350b",
      "metadata": {
        "scrolled": false,
        "colab": {
          "base_uri": "https://localhost:8080/",
          "height": 480
        },
        "id": "9572350b",
        "outputId": "1f8d03fb-b4ef-41a5-f115-2a6500fd4643"
      },
      "outputs": [
        {
          "output_type": "display_data",
          "data": {
            "text/plain": [
              "<Figure size 640x480 with 1 Axes>"
            ],
            "image/png": "[encoded data removed]"
          },
          "metadata": {}
        }
      ],
      "source": [
        "sns.lineplot(data=df, x='Year', y='Deaths', estimator='sum').set(title='Tesla Deaths over the Years', );\n"
      ]
    },
    {
      "cell_type": "code",
      "execution_count": 10,
      "id": "ad9a4f70",
      "metadata": {
        "id": "ad9a4f70"
      },
      "outputs": [],
      "source": [
        "df['Date']=pd.to_datetime(df['Date'], format='%m/%d/%Y')"
      ]
    },
    {
      "cell_type": "code",
      "execution_count": 11,
      "id": "9081f8e8",
      "metadata": {
        "id": "9081f8e8"
      },
      "outputs": [],
      "source": [
        "df['Day']=df['Date'].dt.strftime('%d')\n",
        "df['Week']= df['Date'].dt.strftime('%A')\n",
        "df['Month']=df['Date'].dt.strftime('%m')"
      ]
    },
    {
      "cell_type": "code",
      "execution_count": 12,
      "id": "a34616e3",
      "metadata": {
        "id": "a34616e3"
      },
      "outputs": [],
      "source": [
        "df['Month'] = df['Date'].dt.strftime('%m')"
      ]
    },
    {
      "cell_type": "code",
      "execution_count": 13,
      "id": "f9b48a2e",
      "metadata": {
        "colab": {
          "base_uri": "https://localhost:8080/",
          "height": 508
        },
        "id": "f9b48a2e",
        "outputId": "af19e2ad-4e74-451e-a273-94370df3cbf3"
      },
      "outputs": [
        {
          "output_type": "execute_result",
          "data": {
            "text/plain": [
              "   Case #  Year       Date    Country State  \\\n",
              "0     254  2022 2022-08-16   Germany    NaN   \n",
              "1     253  2022 2022-08-15       USA     CA   \n",
              "2     252  2022 2022-08-14   Finland    NaN   \n",
              "3     251  2022 2022-08-02       USA     FL   \n",
              "4     250  2022 2022-07-27       USA     ME   \n",
              "\n",
              "                             Description  Deaths Tesla driver Tesla occupant  \\\n",
              "0    Tesla car crashes into tree, burns        2          NaN            NaN   \n",
              "1     Tesla veers into oncoming traffic        4            1              3   \n",
              "2     Unlicensed driver hits pedestrian        1           -              -    \n",
              "3   Man in wheelchair hit crossing road        1           -              -    \n",
              "4           Tesla crashes at high speed        1            1             -    \n",
              "\n",
              "  Other vehicle  ... Verified Tesla Autopilot Death  \\\n",
              "0            -   ...                             -    \n",
              "1            -   ...                             -    \n",
              "2            -   ...                             -    \n",
              "3            -   ...                             -    \n",
              "4            -   ...                             -    \n",
              "\n",
              "                                              Source Note         Deceased 1  \\\n",
              "0   https://www.tag24.de/nachrichten/unfall/tesla...  NaN                NaN   \n",
              "1   https://www.ksbw.com/article/hollister-crash-...  NaN                NaN   \n",
              "2                 https://yle.fi/uutiset/3-12576787   NaN                NaN   \n",
              "3   https://www.wfla.com/news/man-in-wheelchair-f...  NaN                NaN   \n",
              "4   https://www.boothbayregister.com/article/sout...  NaN   James T. Penner    \n",
              "\n",
              "  Deceased 2 Deceased 3 Deceased 4 Day       Week Month  \n",
              "0        NaN        NaN        NaN  16    Tuesday    08  \n",
              "1        NaN        NaN        NaN  15     Monday    08  \n",
              "2        NaN        NaN        NaN  14     Sunday    08  \n",
              "3        NaN        NaN        NaN  02    Tuesday    08  \n",
              "4        NaN        NaN        NaN  27  Wednesday    07  \n",
              "\n",
              "[5 rows x 24 columns]"
            ],
            "text/html": [
              "\n",
              "  <div id=\"df-9da2e0be-868e-4745-b742-9d45d31c5656\">\n",
              "    <div class=\"colab-df-container\">\n",
              "      <div>\n",
              "<style scoped>\n",
              "    .dataframe tbody tr th:only-of-type {\n",
              "        vertical-align: middle;\n",
              "    }\n",
              "\n",
              "    .dataframe tbody tr th {\n",
              "        vertical-align: top;\n",
              "    }\n",
              "\n",
              "    .dataframe thead th {\n",
              "        text-align: right;\n",
              "    }\n",
              "</style>\n",
              "<table border=\"1\" class=\"dataframe\">\n",
              "  <thead>\n",
              "    <tr style=\"text-align: right;\">\n",
              "      <th></th>\n",
              "      <th>Case #</th>\n",
              "      <th>Year</th>\n",
              "      <th>Date</th>\n",
              "      <th>Country</th>\n",
              "      <th>State</th>\n",
              "      <th>Description</th>\n",
              "      <th>Deaths</th>\n",
              "      <th>Tesla driver</th>\n",
              "      <th>Tesla occupant</th>\n",
              "      <th>Other vehicle</th>\n",
              "      <th>...</th>\n",
              "      <th>Verified Tesla Autopilot Death</th>\n",
              "      <th>Source</th>\n",
              "      <th>Note</th>\n",
              "      <th>Deceased 1</th>\n",
              "      <th>Deceased 2</th>\n",
              "      <th>Deceased 3</th>\n",
              "      <th>Deceased 4</th>\n",
              "      <th>Day</th>\n",
              "      <th>Week</th>\n",
              "      <th>Month</th>\n",
              "    </tr>\n",
              "  </thead>\n",
              "  <tbody>\n",
              "    <tr>\n",
              "      <th>0</th>\n",
              "      <td>254</td>\n",
              "      <td>2022</td>\n",
              "      <td>2022-08-16</td>\n",
              "      <td>Germany</td>\n",
              "      <td>NaN</td>\n",
              "      <td>Tesla car crashes into tree, burns</td>\n",
              "      <td>2</td>\n",
              "      <td>NaN</td>\n",
              "      <td>NaN</td>\n",
              "      <td>-</td>\n",
              "      <td>...</td>\n",
              "      <td>-</td>\n",
              "      <td>https://www.tag24.de/nachrichten/unfall/tesla...</td>\n",
              "      <td>NaN</td>\n",
              "      <td>NaN</td>\n",
              "      <td>NaN</td>\n",
              "      <td>NaN</td>\n",
              "      <td>NaN</td>\n",
              "      <td>16</td>\n",
              "      <td>Tuesday</td>\n",
              "      <td>08</td>\n",
              "    </tr>\n",
              "    <tr>\n",
              "      <th>1</th>\n",
              "      <td>253</td>\n",
              "      <td>2022</td>\n",
              "      <td>2022-08-15</td>\n",
              "      <td>USA</td>\n",
              "      <td>CA</td>\n",
              "      <td>Tesla veers into oncoming traffic</td>\n",
              "      <td>4</td>\n",
              "      <td>1</td>\n",
              "      <td>3</td>\n",
              "      <td>-</td>\n",
              "      <td>...</td>\n",
              "      <td>-</td>\n",
              "      <td>https://www.ksbw.com/article/hollister-crash-...</td>\n",
              "      <td>NaN</td>\n",
              "      <td>NaN</td>\n",
              "      <td>NaN</td>\n",
              "      <td>NaN</td>\n",
              "      <td>NaN</td>\n",
              "      <td>15</td>\n",
              "      <td>Monday</td>\n",
              "      <td>08</td>\n",
              "    </tr>\n",
              "    <tr>\n",
              "      <th>2</th>\n",
              "      <td>252</td>\n",
              "      <td>2022</td>\n",
              "      <td>2022-08-14</td>\n",
              "      <td>Finland</td>\n",
              "      <td>NaN</td>\n",
              "      <td>Unlicensed driver hits pedestrian</td>\n",
              "      <td>1</td>\n",
              "      <td>-</td>\n",
              "      <td>-</td>\n",
              "      <td>-</td>\n",
              "      <td>...</td>\n",
              "      <td>-</td>\n",
              "      <td>https://yle.fi/uutiset/3-12576787</td>\n",
              "      <td>NaN</td>\n",
              "      <td>NaN</td>\n",
              "      <td>NaN</td>\n",
              "      <td>NaN</td>\n",
              "      <td>NaN</td>\n",
              "      <td>14</td>\n",
              "      <td>Sunday</td>\n",
              "      <td>08</td>\n",
              "    </tr>\n",
              "    <tr>\n",
              "      <th>3</th>\n",
              "      <td>251</td>\n",
              "      <td>2022</td>\n",
              "      <td>2022-08-02</td>\n",
              "      <td>USA</td>\n",
              "      <td>FL</td>\n",
              "      <td>Man in wheelchair hit crossing road</td>\n",
              "      <td>1</td>\n",
              "      <td>-</td>\n",
              "      <td>-</td>\n",
              "      <td>-</td>\n",
              "      <td>...</td>\n",
              "      <td>-</td>\n",
              "      <td>https://www.wfla.com/news/man-in-wheelchair-f...</td>\n",
              "      <td>NaN</td>\n",
              "      <td>NaN</td>\n",
              "      <td>NaN</td>\n",
              "      <td>NaN</td>\n",
              "      <td>NaN</td>\n",
              "      <td>02</td>\n",
              "      <td>Tuesday</td>\n",
              "      <td>08</td>\n",
              "    </tr>\n",
              "    <tr>\n",
              "      <th>4</th>\n",
              "      <td>250</td>\n",
              "      <td>2022</td>\n",
              "      <td>2022-07-27</td>\n",
              "      <td>USA</td>\n",
              "      <td>ME</td>\n",
              "      <td>Tesla crashes at high speed</td>\n",
              "      <td>1</td>\n",
              "      <td>1</td>\n",
              "      <td>-</td>\n",
              "      <td>-</td>\n",
              "      <td>...</td>\n",
              "      <td>-</td>\n",
              "      <td>https://www.boothbayregister.com/article/sout...</td>\n",
              "      <td>NaN</td>\n",
              "      <td>James T. Penner</td>\n",
              "      <td>NaN</td>\n",
              "      <td>NaN</td>\n",
              "      <td>NaN</td>\n",
              "      <td>27</td>\n",
              "      <td>Wednesday</td>\n",
              "      <td>07</td>\n",
              "    </tr>\n",
              "  </tbody>\n",
              "</table>\n",
              "<p>5 rows × 24 columns</p>\n",
              "</div>\n",
              "      <button class=\"colab-df-convert\" onclick=\"convertToInteractive('df-9da2e0be-868e-4745-b742-9d45d31c5656')\"\n",
              "              title=\"Convert this dataframe to an interactive table.\"\n",
              "              style=\"display:none;\">\n",
              "        \n",
              "  <svg xmlns=\"http://www.w3.org/2000/svg\" height=\"24px\"viewBox=\"0 0 24 24\"\n",
              "       width=\"24px\">\n",
              "    <path d=\"M0 0h24v24H0V0z\" fill=\"none\"/>\n",
              "    <path d=\"M18.56 5.44l.94 2.06.94-2.06 2.06-.94-2.06-.94-.94-2.06-.94 2.06-2.06.94zm-11 1L8.5 8.5l.94-2.06 2.06-.94-2.06-.94L8.5 2.5l-.94 2.06-2.06.94zm10 10l.94 2.06.94-2.06 2.06-.94-2.06-.94-.94-2.06-.94 2.06-2.06.94z\"/><path d=\"M17.41 7.96l-1.37-1.37c-.4-.4-.92-.59-1.43-.59-.52 0-1.04.2-1.43.59L10.3 9.45l-7.72 7.72c-.78.78-.78 2.05 0 2.83L4 21.41c.39.39.9.59 1.41.59.51 0 1.02-.2 1.41-.59l7.78-7.78 2.81-2.81c.8-.78.8-2.07 0-2.86zM5.41 20L4 18.59l7.72-7.72 1.47 1.35L5.41 20z\"/>\n",
              "  </svg>\n",
              "      </button>\n",
              "      \n",
              "  <style>\n",
              "    .colab-df-container {\n",
              "      display:flex;\n",
              "      flex-wrap:wrap;\n",
              "      gap: 12px;\n",
              "    }\n",
              "\n",
              "    .colab-df-convert {\n",
              "      background-color: #E8F0FE;\n",
              "      border: none;\n",
              "      border-radius: 50%;\n",
              "      cursor: pointer;\n",
              "      display: none;\n",
              "      fill: #1967D2;\n",
              "      height: 32px;\n",
              "      padding: 0 0 0 0;\n",
              "      width: 32px;\n",
              "    }\n",
              "\n",
              "    .colab-df-convert:hover {\n",
              "      background-color: #E2EBFA;\n",
              "      box-shadow: 0px 1px 2px rgba(60, 64, 67, 0.3), 0px 1px 3px 1px rgba(60, 64, 67, 0.15);\n",
              "      fill: #174EA6;\n",
              "    }\n",
              "\n",
              "    [theme=dark] .colab-df-convert {\n",
              "      background-color: #3B4455;\n",
              "      fill: #D2E3FC;\n",
              "    }\n",
              "\n",
              "    [theme=dark] .colab-df-convert:hover {\n",
              "      background-color: #434B5C;\n",
              "      box-shadow: 0px 1px 3px 1px rgba(0, 0, 0, 0.15);\n",
              "      filter: drop-shadow(0px 1px 2px rgba(0, 0, 0, 0.3));\n",
              "      fill: #FFFFFF;\n",
              "    }\n",
              "  </style>\n",
              "\n",
              "      <script>\n",
              "        const buttonEl =\n",
              "          document.querySelector('#df-9da2e0be-868e-4745-b742-9d45d31c5656 button.colab-df-convert');\n",
              "        buttonEl.style.display =\n",
              "          google.colab.kernel.accessAllowed ? 'block' : 'none';\n",
              "\n",
              "        async function convertToInteractive(key) {\n",
              "          const element = document.querySelector('#df-9da2e0be-868e-4745-b742-9d45d31c5656');\n",
              "          const dataTable =\n",
              "            await google.colab.kernel.invokeFunction('convertToInteractive',\n",
              "                                                     [key], {});\n",
              "          if (!dataTable) return;\n",
              "\n",
              "          const docLinkHtml = 'Like what you see? Visit the ' +\n",
              "            '<a target=\"_blank\" href=https://colab.research.google.com/notebooks/data_table.ipynb>data table notebook</a>'\n",
              "            + ' to learn more about interactive tables.';\n",
              "          element.innerHTML = '';\n",
              "          dataTable['output_type'] = 'display_data';\n",
              "          await google.colab.output.renderOutput(dataTable, element);\n",
              "          const docLink = document.createElement('div');\n",
              "          docLink.innerHTML = docLinkHtml;\n",
              "          element.appendChild(docLink);\n",
              "        }\n",
              "      </script>\n",
              "    </div>\n",
              "  </div>\n",
              "  "
            ]
          },
          "metadata": {},
          "execution_count": 13
        }
      ],
      "source": [
        "df.head()\n"
      ]
    },
    {
      "cell_type": "markdown",
      "id": "249b5cce",
      "metadata": {
        "id": "249b5cce"
      },
      "source": [
        "# Número de mortes em dias da semana\n",
        "Podemos observar, pelo levantamento, que sábado foi o dia da semana que mais contabilizou acidentes e óbitos envolvendo condutores do Tesla, seguidos pela Segunda-feira e, em sequência, Sexta-feira. Há também uma maior especificação sobre a data, no mês, em que ocorreram os acidentes. Posteriormente, na linha 21, podemos observar a contabilização dos meses que houve registro de mortes envolvendo condutores de Tesla. Pelo gráfico, é possível apontar que o mês de maio foi o que mais contabilizou acidentes e mortes envolvendo a montadora elétrica.\n",
        "\n",
        "\n",
        "\n"
      ]
    },
    {
      "cell_type": "code",
      "execution_count": 14,
      "id": "f4fd527b",
      "metadata": {
        "colab": {
          "base_uri": "https://localhost:8080/",
          "height": 458
        },
        "id": "f4fd527b",
        "outputId": "b3587155-c929-4fc2-cf1a-428bbd3c8f71"
      },
      "outputs": [
        {
          "output_type": "display_data",
          "data": {
            "text/plain": [
              "<Figure size 640x480 with 1 Axes>"
            ],
            "image/png": "[encoded data removed]"
          },
          "metadata": {}
        }
      ],
      "source": [
        "sns.countplot(data=df, x='Week', palette='mako');"
      ]
    },
    {
      "cell_type": "code",
      "execution_count": 15,
      "id": "d1d7fc10",
      "metadata": {
        "id": "d1d7fc10"
      },
      "outputs": [],
      "source": [
        "df.sort_values('Day', inplace=True)"
      ]
    },
    {
      "cell_type": "code",
      "execution_count": null,
      "id": "70027482",
      "metadata": {
        "scrolled": true,
        "id": "70027482",
        "outputId": "211126e4-6fb9-4b70-8f56-e6809310a247"
      },
      "outputs": [
        {
          "data": {
            "image/png": "[encoded data removed]",
            "text/plain": [
              "<Figure size 1008x504 with 1 Axes>"
            ]
          },
          "metadata": {},
          "output_type": "display_data"
        }
      ],
      "source": [
        "#days\n",
        "plt.figure(figsize=(14,7))\n",
        "sns.countplot(data=df, x='Day', palette='mako');"
      ]
    },
    {
      "cell_type": "code",
      "execution_count": 16,
      "id": "b1a02d01",
      "metadata": {
        "id": "b1a02d01"
      },
      "outputs": [],
      "source": [
        "df.sort_values(by='Month', inplace=True)"
      ]
    },
    {
      "cell_type": "code",
      "execution_count": 17,
      "id": "779b4e09",
      "metadata": {
        "scrolled": true,
        "colab": {
          "base_uri": "https://localhost:8080/",
          "height": 458
        },
        "id": "779b4e09",
        "outputId": "836af441-7861-41bc-c115-837673caf2b8"
      },
      "outputs": [
        {
          "output_type": "display_data",
          "data": {
            "text/plain": [
              "<Figure size 640x480 with 1 Axes>"
            ],
            "image/png": "[encoded data removed]"
          },
          "metadata": {}
        }
      ],
      "source": [
        "sns.countplot(data=df, x='Month', palette='mako');"
      ]
    },
    {
      "cell_type": "markdown",
      "id": "a1d8740a",
      "metadata": {
        "heading_collapsed": true,
        "id": "a1d8740a"
      },
      "source": [
        "## Country"
      ]
    },
    {
      "cell_type": "markdown",
      "id": "be9f7535",
      "metadata": {
        "id": "be9f7535"
      },
      "source": [
        "# EUA assumem liderança\n",
        "Em termos de mortes por país, os Estados Unidos são o país com o maior número de óbitos, naturalmente, pelo fato da montadora elétrica estar baseada no Estado da Califórnia. Naturalmente, por possuir plantas fabris na Alemanha e na China, a montadora elétrica de Musk também conta com razoável popularidade nos dois países, nos continente europeu e asiático, respectivamente, o que pode explicar as mortes."
      ]
    },
    {
      "cell_type": "code",
      "execution_count": 18,
      "id": "80e08b67",
      "metadata": {
        "hidden": true,
        "scrolled": true,
        "colab": {
          "base_uri": "https://localhost:8080/",
          "height": 549
        },
        "id": "80e08b67",
        "outputId": "9982e4e3-3576-4ff4-e6d6-1be6e4d5ba35"
      },
      "outputs": [
        {
          "output_type": "display_data",
          "data": {
            "text/plain": [
              "<Figure size 1500x800 with 1 Axes>"
            ],
            "image/png": "[encoded data removed]"
          },
          "metadata": {}
        }
      ],
      "source": [
        "plt.figure(figsize=(15,8))\n",
        "sns.countplot(data=df, x='Country').set(title='Number of Deaths Per Country');\n",
        "plt.xticks(rotation=45)\n",
        "\n",
        "plt.show()"
      ]
    },
    {
      "cell_type": "code",
      "execution_count": 19,
      "id": "bcaccfaa",
      "metadata": {
        "hidden": true,
        "colab": {
          "base_uri": "https://localhost:8080/"
        },
        "id": "bcaccfaa",
        "outputId": "0efa22ec-8b5e-4579-e5e2-5d2a37537cd4"
      },
      "outputs": [
        {
          "output_type": "execute_result",
          "data": {
            "text/plain": [
              " USA             185\n",
              " China            13\n",
              " Germany          11\n",
              " Canada            6\n",
              " Netherlands       6\n",
              " Norway            4\n",
              " Holland           3\n",
              " Taiwan            3\n",
              " UK                3\n",
              " Switzerland       3\n",
              " Australia         2\n",
              " Denmark           2\n",
              " Japan             2\n",
              " France            2\n",
              " Belgium           2\n",
              " Spain             1\n",
              " Ukraine           1\n",
              " Finland           1\n",
              " Austria           1\n",
              " South Korea       1\n",
              " Portugal          1\n",
              " Slovenia          1\n",
              "Name: Country, dtype: int64"
            ]
          },
          "metadata": {},
          "execution_count": 19
        }
      ],
      "source": [
        "df['Country'].value_counts()"
      ]
    },
    {
      "cell_type": "markdown",
      "id": "a7ffd2c1",
      "metadata": {
        "hidden": true,
        "id": "a7ffd2c1"
      },
      "source": [
        "# Califórnia lidera mortes\n",
        "O Estado da Califórnia, naturalmente por concentrar a base principal da Tesla, em Palo Alto."
      ]
    },
    {
      "cell_type": "code",
      "execution_count": 20,
      "id": "f9c7fd90",
      "metadata": {
        "hidden": true,
        "id": "f9c7fd90"
      },
      "outputs": [],
      "source": [
        "usa = df[df['Country'] == ' USA ']\n",
        "germany = df[df['Country'] == ' Germany ']\n"
      ]
    },
    {
      "cell_type": "code",
      "execution_count": 21,
      "id": "0b386d10",
      "metadata": {
        "hidden": true,
        "colab": {
          "base_uri": "https://localhost:8080/"
        },
        "id": "0b386d10",
        "outputId": "ecb7a473-a7d9-48a2-cd5d-b29eae6dd232"
      },
      "outputs": [
        {
          "output_type": "stream",
          "name": "stderr",
          "text": [
            "<ipython-input-21-fc2bb21d5927>:1: FutureWarning: The default value of numeric_only in DataFrameGroupBy.sum is deprecated. In a future version, numeric_only will default to False. Either specify numeric_only or select only columns which should be valid for the function.\n",
            "  usa_state = usa.groupby(by='State').sum()\n"
          ]
        }
      ],
      "source": [
        "usa_state = usa.groupby(by='State').sum()"
      ]
    },
    {
      "cell_type": "code",
      "execution_count": 22,
      "id": "d844be4a",
      "metadata": {
        "hidden": true,
        "id": "d844be4a"
      },
      "outputs": [],
      "source": [
        "usa_state.reset_index(inplace=True)"
      ]
    },
    {
      "cell_type": "code",
      "execution_count": 23,
      "id": "c8ed155c",
      "metadata": {
        "hidden": true,
        "colab": {
          "base_uri": "https://localhost:8080/",
          "height": 508
        },
        "id": "c8ed155c",
        "outputId": "18aa2b89-11fc-4ee5-8522-56bd0407dede"
      },
      "outputs": [
        {
          "output_type": "display_data",
          "data": {
            "text/plain": [
              "<Figure size 1500x800 with 1 Axes>"
            ],
            "image/png": "[encoded data removed]"
          },
          "metadata": {}
        }
      ],
      "source": [
        "plt.figure(figsize=(15,8))\n",
        "sns.barplot(data=usa_state, x='State', y='Deaths').set(title='Deaths per State in the USA')\n",
        "\n",
        "plt.show()"
      ]
    },
    {
      "cell_type": "code",
      "execution_count": null,
      "id": "3b5d6d7d",
      "metadata": {
        "hidden": true,
        "id": "3b5d6d7d"
      },
      "outputs": [],
      "source": [
        "# of these deaths how many are tesla drivers,     tesla occupants\n"
      ]
    },
    {
      "cell_type": "markdown",
      "id": "388339fb",
      "metadata": {
        "id": "388339fb"
      },
      "source": [
        "# Resultado de Mortes\n",
        "Falecimento de condutores ou passageiros, em decorrência dos acidentes envolvendo Tesla.\n"
      ]
    },
    {
      "cell_type": "code",
      "execution_count": 24,
      "id": "a72e21e2",
      "metadata": {
        "scrolled": true,
        "colab": {
          "base_uri": "https://localhost:8080/"
        },
        "id": "a72e21e2",
        "outputId": "7be3dd2a-83ac-4183-8592-7ec9bcf030f8"
      },
      "outputs": [
        {
          "output_type": "execute_result",
          "data": {
            "text/plain": [
              " -     151\n",
              "1       99\n",
              "Name: Tesla driver, dtype: int64"
            ]
          },
          "metadata": {},
          "execution_count": 24
        }
      ],
      "source": [
        "df['Tesla driver'].value_counts()"
      ]
    },
    {
      "cell_type": "code",
      "execution_count": 25,
      "id": "9fb7a1b3",
      "metadata": {
        "scrolled": false,
        "colab": {
          "base_uri": "https://localhost:8080/",
          "height": 318
        },
        "id": "9fb7a1b3",
        "outputId": "e2722dee-8505-445f-c2cf-a27c4d247628"
      },
      "outputs": [
        {
          "output_type": "display_data",
          "data": {
            "text/plain": [
              "<Figure size 1000x300 with 2 Axes>"
            ],
            "image/png": "[encoded data removed]"
          },
          "metadata": {}
        }
      ],
      "source": [
        "f, axes = plt.subplots(1, 2, figsize=(10,3))\n",
        "sns.countplot(data=df, x='Tesla driver' , ax=axes[0]);\n",
        "sns.countplot(data=df, x=\"Tesla occupant\", ax=axes[1]);\n"
      ]
    },
    {
      "cell_type": "code",
      "execution_count": null,
      "id": "bbbed9db",
      "metadata": {
        "scrolled": true,
        "id": "bbbed9db"
      },
      "outputs": [],
      "source": [
        "# df.replace(' - ', 0, inplace=True)"
      ]
    },
    {
      "cell_type": "code",
      "execution_count": null,
      "id": "d8f3662b",
      "metadata": {
        "id": "d8f3662b"
      },
      "outputs": [],
      "source": [
        "#deaths groupedby country\n",
        "grouped_country = df.groupby(by=['Country']).sum().reset_index()"
      ]
    },
    {
      "cell_type": "code",
      "execution_count": null,
      "id": "ef7339be",
      "metadata": {
        "id": "ef7339be"
      },
      "outputs": [],
      "source": []
    },
    {
      "cell_type": "code",
      "execution_count": null,
      "id": "f967c7db",
      "metadata": {
        "id": "f967c7db"
      },
      "outputs": [],
      "source": []
    },
    {
      "cell_type": "markdown",
      "id": "52f20746",
      "metadata": {
        "id": "52f20746"
      },
      "source": [
        "# Modelo\n",
        "Há uma especificação, abaixo, dos veículos envolvidos em acidentes com óbitos da Tesla e, por consequência, sua distribuição por país. Podemos observar uma maior ocorrência envolvendo o Model S, seguido pelo Model 3."
      ]
    },
    {
      "cell_type": "code",
      "execution_count": 37,
      "id": "abe62289",
      "metadata": {
        "id": "abe62289"
      },
      "outputs": [],
      "source": [
        "# model of the car"
      ]
    },
    {
      "cell_type": "code",
      "execution_count": 36,
      "id": "47184135",
      "metadata": {
        "colab": {
          "base_uri": "https://localhost:8080/"
        },
        "id": "47184135",
        "outputId": "16b3f14f-ede1-4470-c4c1-904257c1b417"
      },
      "outputs": [
        {
          "output_type": "stream",
          "name": "stderr",
          "text": [
            "<ipython-input-36-6e96e2d87c47>:1: FutureWarning: The default value of numeric_only in DataFrameGroupBy.sum is deprecated. In a future version, numeric_only will default to False. Either specify numeric_only or select only columns which should be valid for the function.\n",
            "  model = df.groupby(by='Model').sum()\n"
          ]
        }
      ],
      "source": [
        "model = df.groupby(by='Model').sum()"
      ]
    },
    {
      "cell_type": "code",
      "execution_count": 38,
      "id": "ca268938",
      "metadata": {
        "colab": {
          "base_uri": "https://localhost:8080/",
          "height": 206
        },
        "id": "ca268938",
        "outputId": "76566b11-3c1b-4d4a-95f5-1137ac8e3e83"
      },
      "outputs": [
        {
          "output_type": "execute_result",
          "data": {
            "text/plain": [
              "  Model  Case #    Year  Deaths  Deceased 4\n",
              "0    -    20826  296937     174         0.0\n",
              "1    S     3591   90837      54         0.0\n",
              "2    X     1687   34328      19         0.0\n",
              "3    Y     1263   14146       9         0.0\n",
              "4     3    4259   70698      41         0.0"
            ],
            "text/html": [
              "\n",
              "  <div id=\"df-7ff57dfd-e266-49d7-b615-26d3ab31110c\">\n",
              "    <div class=\"colab-df-container\">\n",
              "      <div>\n",
              "<style scoped>\n",
              "    .dataframe tbody tr th:only-of-type {\n",
              "        vertical-align: middle;\n",
              "    }\n",
              "\n",
              "    .dataframe tbody tr th {\n",
              "        vertical-align: top;\n",
              "    }\n",
              "\n",
              "    .dataframe thead th {\n",
              "        text-align: right;\n",
              "    }\n",
              "</style>\n",
              "<table border=\"1\" class=\"dataframe\">\n",
              "  <thead>\n",
              "    <tr style=\"text-align: right;\">\n",
              "      <th></th>\n",
              "      <th>Model</th>\n",
              "      <th>Case #</th>\n",
              "      <th>Year</th>\n",
              "      <th>Deaths</th>\n",
              "      <th>Deceased 4</th>\n",
              "    </tr>\n",
              "  </thead>\n",
              "  <tbody>\n",
              "    <tr>\n",
              "      <th>0</th>\n",
              "      <td>-</td>\n",
              "      <td>20826</td>\n",
              "      <td>296937</td>\n",
              "      <td>174</td>\n",
              "      <td>0.0</td>\n",
              "    </tr>\n",
              "    <tr>\n",
              "      <th>1</th>\n",
              "      <td>S</td>\n",
              "      <td>3591</td>\n",
              "      <td>90837</td>\n",
              "      <td>54</td>\n",
              "      <td>0.0</td>\n",
              "    </tr>\n",
              "    <tr>\n",
              "      <th>2</th>\n",
              "      <td>X</td>\n",
              "      <td>1687</td>\n",
              "      <td>34328</td>\n",
              "      <td>19</td>\n",
              "      <td>0.0</td>\n",
              "    </tr>\n",
              "    <tr>\n",
              "      <th>3</th>\n",
              "      <td>Y</td>\n",
              "      <td>1263</td>\n",
              "      <td>14146</td>\n",
              "      <td>9</td>\n",
              "      <td>0.0</td>\n",
              "    </tr>\n",
              "    <tr>\n",
              "      <th>4</th>\n",
              "      <td>3</td>\n",
              "      <td>4259</td>\n",
              "      <td>70698</td>\n",
              "      <td>41</td>\n",
              "      <td>0.0</td>\n",
              "    </tr>\n",
              "  </tbody>\n",
              "</table>\n",
              "</div>\n",
              "      <button class=\"colab-df-convert\" onclick=\"convertToInteractive('df-7ff57dfd-e266-49d7-b615-26d3ab31110c')\"\n",
              "              title=\"Convert this dataframe to an interactive table.\"\n",
              "              style=\"display:none;\">\n",
              "        \n",
              "  <svg xmlns=\"http://www.w3.org/2000/svg\" height=\"24px\"viewBox=\"0 0 24 24\"\n",
              "       width=\"24px\">\n",
              "    <path d=\"M0 0h24v24H0V0z\" fill=\"none\"/>\n",
              "    <path d=\"M18.56 5.44l.94 2.06.94-2.06 2.06-.94-2.06-.94-.94-2.06-.94 2.06-2.06.94zm-11 1L8.5 8.5l.94-2.06 2.06-.94-2.06-.94L8.5 2.5l-.94 2.06-2.06.94zm10 10l.94 2.06.94-2.06 2.06-.94-2.06-.94-.94-2.06-.94 2.06-2.06.94z\"/><path d=\"M17.41 7.96l-1.37-1.37c-.4-.4-.92-.59-1.43-.59-.52 0-1.04.2-1.43.59L10.3 9.45l-7.72 7.72c-.78.78-.78 2.05 0 2.83L4 21.41c.39.39.9.59 1.41.59.51 0 1.02-.2 1.41-.59l7.78-7.78 2.81-2.81c.8-.78.8-2.07 0-2.86zM5.41 20L4 18.59l7.72-7.72 1.47 1.35L5.41 20z\"/>\n",
              "  </svg>\n",
              "      </button>\n",
              "      \n",
              "  <style>\n",
              "    .colab-df-container {\n",
              "      display:flex;\n",
              "      flex-wrap:wrap;\n",
              "      gap: 12px;\n",
              "    }\n",
              "\n",
              "    .colab-df-convert {\n",
              "      background-color: #E8F0FE;\n",
              "      border: none;\n",
              "      border-radius: 50%;\n",
              "      cursor: pointer;\n",
              "      display: none;\n",
              "      fill: #1967D2;\n",
              "      height: 32px;\n",
              "      padding: 0 0 0 0;\n",
              "      width: 32px;\n",
              "    }\n",
              "\n",
              "    .colab-df-convert:hover {\n",
              "      background-color: #E2EBFA;\n",
              "      box-shadow: 0px 1px 2px rgba(60, 64, 67, 0.3), 0px 1px 3px 1px rgba(60, 64, 67, 0.15);\n",
              "      fill: #174EA6;\n",
              "    }\n",
              "\n",
              "    [theme=dark] .colab-df-convert {\n",
              "      background-color: #3B4455;\n",
              "      fill: #D2E3FC;\n",
              "    }\n",
              "\n",
              "    [theme=dark] .colab-df-convert:hover {\n",
              "      background-color: #434B5C;\n",
              "      box-shadow: 0px 1px 3px 1px rgba(0, 0, 0, 0.15);\n",
              "      filter: drop-shadow(0px 1px 2px rgba(0, 0, 0, 0.3));\n",
              "      fill: #FFFFFF;\n",
              "    }\n",
              "  </style>\n",
              "\n",
              "      <script>\n",
              "        const buttonEl =\n",
              "          document.querySelector('#df-7ff57dfd-e266-49d7-b615-26d3ab31110c button.colab-df-convert');\n",
              "        buttonEl.style.display =\n",
              "          google.colab.kernel.accessAllowed ? 'block' : 'none';\n",
              "\n",
              "        async function convertToInteractive(key) {\n",
              "          const element = document.querySelector('#df-7ff57dfd-e266-49d7-b615-26d3ab31110c');\n",
              "          const dataTable =\n",
              "            await google.colab.kernel.invokeFunction('convertToInteractive',\n",
              "                                                     [key], {});\n",
              "          if (!dataTable) return;\n",
              "\n",
              "          const docLinkHtml = 'Like what you see? Visit the ' +\n",
              "            '<a target=\"_blank\" href=https://colab.research.google.com/notebooks/data_table.ipynb>data table notebook</a>'\n",
              "            + ' to learn more about interactive tables.';\n",
              "          element.innerHTML = '';\n",
              "          dataTable['output_type'] = 'display_data';\n",
              "          await google.colab.output.renderOutput(dataTable, element);\n",
              "          const docLink = document.createElement('div');\n",
              "          docLink.innerHTML = docLinkHtml;\n",
              "          element.appendChild(docLink);\n",
              "        }\n",
              "      </script>\n",
              "    </div>\n",
              "  </div>\n",
              "  "
            ]
          },
          "metadata": {},
          "execution_count": 38
        }
      ],
      "source": [
        "model.reset_index(inplace=True)\n",
        "model"
      ]
    },
    {
      "cell_type": "code",
      "execution_count": 39,
      "id": "c4522c9f",
      "metadata": {
        "colab": {
          "base_uri": "https://localhost:8080/",
          "height": 475
        },
        "id": "c4522c9f",
        "outputId": "7f469ac9-6cd3-4690-b015-c71510440f64"
      },
      "outputs": [
        {
          "output_type": "execute_result",
          "data": {
            "text/plain": [
              "<Axes: xlabel='Model', ylabel='Deaths'>"
            ]
          },
          "metadata": {},
          "execution_count": 39
        },
        {
          "output_type": "display_data",
          "data": {
            "text/plain": [
              "<Figure size 640x480 with 1 Axes>"
            ],
            "image/png": "[encoded data removed]"
          },
          "metadata": {}
        }
      ],
      "source": [
        "sns.barplot(data=model, x='Model', y='Deaths')"
      ]
    },
    {
      "cell_type": "code",
      "execution_count": 40,
      "id": "ba83feb2",
      "metadata": {
        "colab": {
          "base_uri": "https://localhost:8080/"
        },
        "id": "ba83feb2",
        "outputId": "06d128f3-8599-4080-e575-c91b49ce9eca"
      },
      "outputs": [
        {
          "output_type": "stream",
          "name": "stderr",
          "text": [
            "<ipython-input-40-4f1fbf8146d0>:1: FutureWarning: The default value of numeric_only in DataFrameGroupBy.sum is deprecated. In a future version, numeric_only will default to False. Either specify numeric_only or select only columns which should be valid for the function.\n",
            "  models_country =df.groupby(by=['Country', 'Model']).sum().reset_index()\n"
          ]
        }
      ],
      "source": [
        "models_country =df.groupby(by=['Country', 'Model']).sum().reset_index()"
      ]
    },
    {
      "cell_type": "code",
      "execution_count": 41,
      "id": "95489c03",
      "metadata": {
        "scrolled": true,
        "colab": {
          "base_uri": "https://localhost:8080/",
          "height": 363
        },
        "id": "95489c03",
        "outputId": "4ba7b731-5b38-4d5f-d131-fac37aaa59bf"
      },
      "outputs": [
        {
          "output_type": "execute_result",
          "data": {
            "text/plain": [
              "       Country Model  Case #   Year  Deaths  Deceased 4\n",
              "0   Australia     -       36   2017       1         0.0\n",
              "1   Australia     X      222   2022       1         0.0\n",
              "2     Austria      3      91   2019       1         0.0\n",
              "3     Belgium     -      149   2021       1         0.0\n",
              "4     Belgium      3     133   2020       1         0.0\n",
              "5      Canada     -      369   6057       3         0.0\n",
              "6      Canada     S       50   2018       1         0.0\n",
              "7      Canada     X       61   2019       1         0.0\n",
              "8      Canada      3     109   2020       3         0.0\n",
              "9       China     -     1515  18188       9         0.0"
            ],
            "text/html": [
              "\n",
              "  <div id=\"df-9d6c2a6b-884e-4ca6-a0f0-7f86ff27971e\">\n",
              "    <div class=\"colab-df-container\">\n",
              "      <div>\n",
              "<style scoped>\n",
              "    .dataframe tbody tr th:only-of-type {\n",
              "        vertical-align: middle;\n",
              "    }\n",
              "\n",
              "    .dataframe tbody tr th {\n",
              "        vertical-align: top;\n",
              "    }\n",
              "\n",
              "    .dataframe thead th {\n",
              "        text-align: right;\n",
              "    }\n",
              "</style>\n",
              "<table border=\"1\" class=\"dataframe\">\n",
              "  <thead>\n",
              "    <tr style=\"text-align: right;\">\n",
              "      <th></th>\n",
              "      <th>Country</th>\n",
              "      <th>Model</th>\n",
              "      <th>Case #</th>\n",
              "      <th>Year</th>\n",
              "      <th>Deaths</th>\n",
              "      <th>Deceased 4</th>\n",
              "    </tr>\n",
              "  </thead>\n",
              "  <tbody>\n",
              "    <tr>\n",
              "      <th>0</th>\n",
              "      <td>Australia</td>\n",
              "      <td>-</td>\n",
              "      <td>36</td>\n",
              "      <td>2017</td>\n",
              "      <td>1</td>\n",
              "      <td>0.0</td>\n",
              "    </tr>\n",
              "    <tr>\n",
              "      <th>1</th>\n",
              "      <td>Australia</td>\n",
              "      <td>X</td>\n",
              "      <td>222</td>\n",
              "      <td>2022</td>\n",
              "      <td>1</td>\n",
              "      <td>0.0</td>\n",
              "    </tr>\n",
              "    <tr>\n",
              "      <th>2</th>\n",
              "      <td>Austria</td>\n",
              "      <td>3</td>\n",
              "      <td>91</td>\n",
              "      <td>2019</td>\n",
              "      <td>1</td>\n",
              "      <td>0.0</td>\n",
              "    </tr>\n",
              "    <tr>\n",
              "      <th>3</th>\n",
              "      <td>Belgium</td>\n",
              "      <td>-</td>\n",
              "      <td>149</td>\n",
              "      <td>2021</td>\n",
              "      <td>1</td>\n",
              "      <td>0.0</td>\n",
              "    </tr>\n",
              "    <tr>\n",
              "      <th>4</th>\n",
              "      <td>Belgium</td>\n",
              "      <td>3</td>\n",
              "      <td>133</td>\n",
              "      <td>2020</td>\n",
              "      <td>1</td>\n",
              "      <td>0.0</td>\n",
              "    </tr>\n",
              "    <tr>\n",
              "      <th>5</th>\n",
              "      <td>Canada</td>\n",
              "      <td>-</td>\n",
              "      <td>369</td>\n",
              "      <td>6057</td>\n",
              "      <td>3</td>\n",
              "      <td>0.0</td>\n",
              "    </tr>\n",
              "    <tr>\n",
              "      <th>6</th>\n",
              "      <td>Canada</td>\n",
              "      <td>S</td>\n",
              "      <td>50</td>\n",
              "      <td>2018</td>\n",
              "      <td>1</td>\n",
              "      <td>0.0</td>\n",
              "    </tr>\n",
              "    <tr>\n",
              "      <th>7</th>\n",
              "      <td>Canada</td>\n",
              "      <td>X</td>\n",
              "      <td>61</td>\n",
              "      <td>2019</td>\n",
              "      <td>1</td>\n",
              "      <td>0.0</td>\n",
              "    </tr>\n",
              "    <tr>\n",
              "      <th>8</th>\n",
              "      <td>Canada</td>\n",
              "      <td>3</td>\n",
              "      <td>109</td>\n",
              "      <td>2020</td>\n",
              "      <td>3</td>\n",
              "      <td>0.0</td>\n",
              "    </tr>\n",
              "    <tr>\n",
              "      <th>9</th>\n",
              "      <td>China</td>\n",
              "      <td>-</td>\n",
              "      <td>1515</td>\n",
              "      <td>18188</td>\n",
              "      <td>9</td>\n",
              "      <td>0.0</td>\n",
              "    </tr>\n",
              "  </tbody>\n",
              "</table>\n",
              "</div>\n",
              "      <button class=\"colab-df-convert\" onclick=\"convertToInteractive('df-9d6c2a6b-884e-4ca6-a0f0-7f86ff27971e')\"\n",
              "              title=\"Convert this dataframe to an interactive table.\"\n",
              "              style=\"display:none;\">\n",
              "        \n",
              "  <svg xmlns=\"http://www.w3.org/2000/svg\" height=\"24px\"viewBox=\"0 0 24 24\"\n",
              "       width=\"24px\">\n",
              "    <path d=\"M0 0h24v24H0V0z\" fill=\"none\"/>\n",
              "    <path d=\"M18.56 5.44l.94 2.06.94-2.06 2.06-.94-2.06-.94-.94-2.06-.94 2.06-2.06.94zm-11 1L8.5 8.5l.94-2.06 2.06-.94-2.06-.94L8.5 2.5l-.94 2.06-2.06.94zm10 10l.94 2.06.94-2.06 2.06-.94-2.06-.94-.94-2.06-.94 2.06-2.06.94z\"/><path d=\"M17.41 7.96l-1.37-1.37c-.4-.4-.92-.59-1.43-.59-.52 0-1.04.2-1.43.59L10.3 9.45l-7.72 7.72c-.78.78-.78 2.05 0 2.83L4 21.41c.39.39.9.59 1.41.59.51 0 1.02-.2 1.41-.59l7.78-7.78 2.81-2.81c.8-.78.8-2.07 0-2.86zM5.41 20L4 18.59l7.72-7.72 1.47 1.35L5.41 20z\"/>\n",
              "  </svg>\n",
              "      </button>\n",
              "      \n",
              "  <style>\n",
              "    .colab-df-container {\n",
              "      display:flex;\n",
              "      flex-wrap:wrap;\n",
              "      gap: 12px;\n",
              "    }\n",
              "\n",
              "    .colab-df-convert {\n",
              "      background-color: #E8F0FE;\n",
              "      border: none;\n",
              "      border-radius: 50%;\n",
              "      cursor: pointer;\n",
              "      display: none;\n",
              "      fill: #1967D2;\n",
              "      height: 32px;\n",
              "      padding: 0 0 0 0;\n",
              "      width: 32px;\n",
              "    }\n",
              "\n",
              "    .colab-df-convert:hover {\n",
              "      background-color: #E2EBFA;\n",
              "      box-shadow: 0px 1px 2px rgba(60, 64, 67, 0.3), 0px 1px 3px 1px rgba(60, 64, 67, 0.15);\n",
              "      fill: #174EA6;\n",
              "    }\n",
              "\n",
              "    [theme=dark] .colab-df-convert {\n",
              "      background-color: #3B4455;\n",
              "      fill: #D2E3FC;\n",
              "    }\n",
              "\n",
              "    [theme=dark] .colab-df-convert:hover {\n",
              "      background-color: #434B5C;\n",
              "      box-shadow: 0px 1px 3px 1px rgba(0, 0, 0, 0.15);\n",
              "      filter: drop-shadow(0px 1px 2px rgba(0, 0, 0, 0.3));\n",
              "      fill: #FFFFFF;\n",
              "    }\n",
              "  </style>\n",
              "\n",
              "      <script>\n",
              "        const buttonEl =\n",
              "          document.querySelector('#df-9d6c2a6b-884e-4ca6-a0f0-7f86ff27971e button.colab-df-convert');\n",
              "        buttonEl.style.display =\n",
              "          google.colab.kernel.accessAllowed ? 'block' : 'none';\n",
              "\n",
              "        async function convertToInteractive(key) {\n",
              "          const element = document.querySelector('#df-9d6c2a6b-884e-4ca6-a0f0-7f86ff27971e');\n",
              "          const dataTable =\n",
              "            await google.colab.kernel.invokeFunction('convertToInteractive',\n",
              "                                                     [key], {});\n",
              "          if (!dataTable) return;\n",
              "\n",
              "          const docLinkHtml = 'Like what you see? Visit the ' +\n",
              "            '<a target=\"_blank\" href=https://colab.research.google.com/notebooks/data_table.ipynb>data table notebook</a>'\n",
              "            + ' to learn more about interactive tables.';\n",
              "          element.innerHTML = '';\n",
              "          dataTable['output_type'] = 'display_data';\n",
              "          await google.colab.output.renderOutput(dataTable, element);\n",
              "          const docLink = document.createElement('div');\n",
              "          docLink.innerHTML = docLinkHtml;\n",
              "          element.appendChild(docLink);\n",
              "        }\n",
              "      </script>\n",
              "    </div>\n",
              "  </div>\n",
              "  "
            ]
          },
          "metadata": {},
          "execution_count": 41
        }
      ],
      "source": [
        "models_country.head(10)"
      ]
    },
    {
      "cell_type": "code",
      "execution_count": 42,
      "id": "54d02bb2",
      "metadata": {
        "id": "54d02bb2"
      },
      "outputs": [],
      "source": [
        "models_usa = models_country[models_country['Country']==' USA ']"
      ]
    },
    {
      "cell_type": "code",
      "execution_count": 43,
      "id": "51cabce5",
      "metadata": {
        "scrolled": true,
        "colab": {
          "base_uri": "https://localhost:8080/",
          "height": 206
        },
        "id": "51cabce5",
        "outputId": "39b3d635-0da4-429e-95a6-3cc3fa5d8467"
      },
      "outputs": [
        {
          "output_type": "execute_result",
          "data": {
            "text/plain": [
              "   Country Model  Case #    Year  Deaths  Deceased 4\n",
              "38    USA     -    16309  230276     139         0.0\n",
              "39    USA     S     2557   62575      40         0.0\n",
              "40    USA     X      748   16152       8         0.0\n",
              "41    USA     Y     1016   12124       7         0.0\n",
              "42    USA      3    3089   50499      27         0.0"
            ],
            "text/html": [
              "\n",
              "  <div id=\"df-1fbbb92f-46b9-4622-90a4-ab7cdc062d95\">\n",
              "    <div class=\"colab-df-container\">\n",
              "      <div>\n",
              "<style scoped>\n",
              "    .dataframe tbody tr th:only-of-type {\n",
              "        vertical-align: middle;\n",
              "    }\n",
              "\n",
              "    .dataframe tbody tr th {\n",
              "        vertical-align: top;\n",
              "    }\n",
              "\n",
              "    .dataframe thead th {\n",
              "        text-align: right;\n",
              "    }\n",
              "</style>\n",
              "<table border=\"1\" class=\"dataframe\">\n",
              "  <thead>\n",
              "    <tr style=\"text-align: right;\">\n",
              "      <th></th>\n",
              "      <th>Country</th>\n",
              "      <th>Model</th>\n",
              "      <th>Case #</th>\n",
              "      <th>Year</th>\n",
              "      <th>Deaths</th>\n",
              "      <th>Deceased 4</th>\n",
              "    </tr>\n",
              "  </thead>\n",
              "  <tbody>\n",
              "    <tr>\n",
              "      <th>38</th>\n",
              "      <td>USA</td>\n",
              "      <td>-</td>\n",
              "      <td>16309</td>\n",
              "      <td>230276</td>\n",
              "      <td>139</td>\n",
              "      <td>0.0</td>\n",
              "    </tr>\n",
              "    <tr>\n",
              "      <th>39</th>\n",
              "      <td>USA</td>\n",
              "      <td>S</td>\n",
              "      <td>2557</td>\n",
              "      <td>62575</td>\n",
              "      <td>40</td>\n",
              "      <td>0.0</td>\n",
              "    </tr>\n",
              "    <tr>\n",
              "      <th>40</th>\n",
              "      <td>USA</td>\n",
              "      <td>X</td>\n",
              "      <td>748</td>\n",
              "      <td>16152</td>\n",
              "      <td>8</td>\n",
              "      <td>0.0</td>\n",
              "    </tr>\n",
              "    <tr>\n",
              "      <th>41</th>\n",
              "      <td>USA</td>\n",
              "      <td>Y</td>\n",
              "      <td>1016</td>\n",
              "      <td>12124</td>\n",
              "      <td>7</td>\n",
              "      <td>0.0</td>\n",
              "    </tr>\n",
              "    <tr>\n",
              "      <th>42</th>\n",
              "      <td>USA</td>\n",
              "      <td>3</td>\n",
              "      <td>3089</td>\n",
              "      <td>50499</td>\n",
              "      <td>27</td>\n",
              "      <td>0.0</td>\n",
              "    </tr>\n",
              "  </tbody>\n",
              "</table>\n",
              "</div>\n",
              "      <button class=\"colab-df-convert\" onclick=\"convertToInteractive('df-1fbbb92f-46b9-4622-90a4-ab7cdc062d95')\"\n",
              "              title=\"Convert this dataframe to an interactive table.\"\n",
              "              style=\"display:none;\">\n",
              "        \n",
              "  <svg xmlns=\"http://www.w3.org/2000/svg\" height=\"24px\"viewBox=\"0 0 24 24\"\n",
              "       width=\"24px\">\n",
              "    <path d=\"M0 0h24v24H0V0z\" fill=\"none\"/>\n",
              "    <path d=\"M18.56 5.44l.94 2.06.94-2.06 2.06-.94-2.06-.94-.94-2.06-.94 2.06-2.06.94zm-11 1L8.5 8.5l.94-2.06 2.06-.94-2.06-.94L8.5 2.5l-.94 2.06-2.06.94zm10 10l.94 2.06.94-2.06 2.06-.94-2.06-.94-.94-2.06-.94 2.06-2.06.94z\"/><path d=\"M17.41 7.96l-1.37-1.37c-.4-.4-.92-.59-1.43-.59-.52 0-1.04.2-1.43.59L10.3 9.45l-7.72 7.72c-.78.78-.78 2.05 0 2.83L4 21.41c.39.39.9.59 1.41.59.51 0 1.02-.2 1.41-.59l7.78-7.78 2.81-2.81c.8-.78.8-2.07 0-2.86zM5.41 20L4 18.59l7.72-7.72 1.47 1.35L5.41 20z\"/>\n",
              "  </svg>\n",
              "      </button>\n",
              "      \n",
              "  <style>\n",
              "    .colab-df-container {\n",
              "      display:flex;\n",
              "      flex-wrap:wrap;\n",
              "      gap: 12px;\n",
              "    }\n",
              "\n",
              "    .colab-df-convert {\n",
              "      background-color: #E8F0FE;\n",
              "      border: none;\n",
              "      border-radius: 50%;\n",
              "      cursor: pointer;\n",
              "      display: none;\n",
              "      fill: #1967D2;\n",
              "      height: 32px;\n",
              "      padding: 0 0 0 0;\n",
              "      width: 32px;\n",
              "    }\n",
              "\n",
              "    .colab-df-convert:hover {\n",
              "      background-color: #E2EBFA;\n",
              "      box-shadow: 0px 1px 2px rgba(60, 64, 67, 0.3), 0px 1px 3px 1px rgba(60, 64, 67, 0.15);\n",
              "      fill: #174EA6;\n",
              "    }\n",
              "\n",
              "    [theme=dark] .colab-df-convert {\n",
              "      background-color: #3B4455;\n",
              "      fill: #D2E3FC;\n",
              "    }\n",
              "\n",
              "    [theme=dark] .colab-df-convert:hover {\n",
              "      background-color: #434B5C;\n",
              "      box-shadow: 0px 1px 3px 1px rgba(0, 0, 0, 0.15);\n",
              "      filter: drop-shadow(0px 1px 2px rgba(0, 0, 0, 0.3));\n",
              "      fill: #FFFFFF;\n",
              "    }\n",
              "  </style>\n",
              "\n",
              "      <script>\n",
              "        const buttonEl =\n",
              "          document.querySelector('#df-1fbbb92f-46b9-4622-90a4-ab7cdc062d95 button.colab-df-convert');\n",
              "        buttonEl.style.display =\n",
              "          google.colab.kernel.accessAllowed ? 'block' : 'none';\n",
              "\n",
              "        async function convertToInteractive(key) {\n",
              "          const element = document.querySelector('#df-1fbbb92f-46b9-4622-90a4-ab7cdc062d95');\n",
              "          const dataTable =\n",
              "            await google.colab.kernel.invokeFunction('convertToInteractive',\n",
              "                                                     [key], {});\n",
              "          if (!dataTable) return;\n",
              "\n",
              "          const docLinkHtml = 'Like what you see? Visit the ' +\n",
              "            '<a target=\"_blank\" href=https://colab.research.google.com/notebooks/data_table.ipynb>data table notebook</a>'\n",
              "            + ' to learn more about interactive tables.';\n",
              "          element.innerHTML = '';\n",
              "          dataTable['output_type'] = 'display_data';\n",
              "          await google.colab.output.renderOutput(dataTable, element);\n",
              "          const docLink = document.createElement('div');\n",
              "          docLink.innerHTML = docLinkHtml;\n",
              "          element.appendChild(docLink);\n",
              "        }\n",
              "      </script>\n",
              "    </div>\n",
              "  </div>\n",
              "  "
            ]
          },
          "metadata": {},
          "execution_count": 43
        }
      ],
      "source": [
        "models_usa"
      ]
    },
    {
      "cell_type": "code",
      "execution_count": 44,
      "id": "8a29d23c",
      "metadata": {
        "id": "8a29d23c"
      },
      "outputs": [],
      "source": [
        "models_china = models_country[models_country['Country']==' China ']"
      ]
    },
    {
      "cell_type": "markdown",
      "id": "4fb00298",
      "metadata": {
        "id": "4fb00298"
      },
      "source": [
        "# Modelos de mortes por EUA, China\n",
        "Podemos observar que há uma maior ocorrência de mortes envolvendo o Model S da Tesla, nos EUA, que é um dos princupais modelos da montadora, lançado em julho de 2012. Na China, há uma maior equiparidade entre os modelos X e Y."
      ]
    },
    {
      "cell_type": "code",
      "execution_count": 45,
      "id": "769f7706",
      "metadata": {
        "scrolled": true,
        "colab": {
          "base_uri": "https://localhost:8080/",
          "height": 362
        },
        "id": "769f7706",
        "outputId": "bbb3061f-0abf-4162-f467-027ca3796aa4"
      },
      "outputs": [
        {
          "output_type": "display_data",
          "data": {
            "text/plain": [
              "<Figure size 1300x300 with 2 Axes>"
            ],
            "image/png": "[encoded data removed]"
          },
          "metadata": {}
        }
      ],
      "source": [
        "f, axes = plt.subplots(1, 2, figsize=(13,3))\n",
        "\n",
        "sns.barplot(data=models_usa, x='Model', y='Deaths', ax=axes[0]).set(title='Deaths per Model in USA');\n",
        "sns.barplot(data=models_china, x='Model', y='Deaths' ,ax=axes[1]).set(title='Deaths per Model in China');"
      ]
    },
    {
      "cell_type": "markdown",
      "source": [
        "O que podemos observar, com o trabalho, é que há uma maior correlação entre acidentes envolvendo veículos elétricos da Tesla e sua localidade, como por exemplo, o país de origem da Tesla, os Estados Unidos. Isso, naturalmente, decorreria de uma maior proporção de veículos por condutores. Apesar disso, um trabalho subsequente pode tentar averiguar quais seriam as principais soluções da montadora elétrica para lidar com o problema. Uma das questões apontadas é o sistema de direção autônoma da Tesla. Há também, na indústria, uma discussão sobre o sistema de sensores e equipamentos.\n",
        ""
      ],
      "metadata": {
        "id": "BmwS8CSFaxOq"
      },
      "id": "BmwS8CSFaxOq"
    },
    {
      "cell_type": "code",
      "execution_count": null,
      "id": "8468ad40",
      "metadata": {
        "id": "8468ad40"
      },
      "outputs": [],
      "source": []
    }
  ],
  "metadata": {
    "kernelspec": {
      "display_name": "Python 3 (ipykernel)",
      "language": "python",
      "name": "python3"
    },
    "language_info": {
      "codemirror_mode": {
        "name": "ipython",
        "version": 3
      },
      "file_extension": ".py",
      "mimetype": "text/x-python",
      "name": "python",
      "nbconvert_exporter": "python",
      "pygments_lexer": "ipython3",
      "version": "3.9.7"
    },
    "colab": {
      "provenance": []
    }
  },
  "nbformat": 4,
  "nbformat_minor": 5
}